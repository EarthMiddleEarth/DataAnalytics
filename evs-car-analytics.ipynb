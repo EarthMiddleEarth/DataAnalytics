{
 "cells": [
  {
   "cell_type": "code",
   "execution_count": 1,
   "id": "ced72a84",
   "metadata": {
    "_cell_guid": "b1076dfc-b9ad-4769-8c92-a6c4dae69d19",
    "_uuid": "8f2839f25d086af736a60e9eeb907d3b93b6e0e5",
    "execution": {
     "iopub.execute_input": "2023-03-19T10:04:36.103148Z",
     "iopub.status.busy": "2023-03-19T10:04:36.102319Z",
     "iopub.status.idle": "2023-03-19T10:04:36.121255Z",
     "shell.execute_reply": "2023-03-19T10:04:36.119333Z"
    },
    "papermill": {
     "duration": 0.029796,
     "end_time": "2023-03-19T10:04:36.124108",
     "exception": false,
     "start_time": "2023-03-19T10:04:36.094312",
     "status": "completed"
    },
    "tags": []
   },
   "outputs": [
    {
     "name": "stdout",
     "output_type": "stream",
     "text": [
      "/kaggle/input/evs-one-electric-vehicle-dataset/ElectricCarData_Clean.csv\n",
      "/kaggle/input/evs-one-electric-vehicle-dataset/ElectricCarData_Norm.csv\n"
     ]
    }
   ],
   "source": [
    "# This Python 3 environment comes with many helpful analytics libraries installed\n",
    "# It is defined by the kaggle/python Docker image: https://github.com/kaggle/docker-python\n",
    "# For example, here's several helpful packages to load\n",
    "\n",
    "import numpy as np # linear algebra\n",
    "import pandas as pd # data processing, CSV file I/O (e.g. pd.read_csv)\n",
    "\n",
    "# Input data files are available in the read-only \"../input/\" directory\n",
    "# For example, running this (by clicking run or pressing Shift+Enter) will list all files under the input directory\n",
    "\n",
    "import os\n",
    "for dirname, _, filenames in os.walk('/kaggle/input'):\n",
    "    for filename in filenames:\n",
    "        print(os.path.join(dirname, filename))\n",
    "\n",
    "# You can write up to 20GB to the current directory (/kaggle/working/) that gets preserved as output when you create a version using \"Save & Run All\" \n",
    "# You can also write temporary files to /kaggle/temp/, but they won't be saved outside of the current session"
   ]
  },
  {
   "cell_type": "code",
   "execution_count": 2,
   "id": "75766de7",
   "metadata": {
    "execution": {
     "iopub.execute_input": "2023-03-19T10:04:36.136086Z",
     "iopub.status.busy": "2023-03-19T10:04:36.135606Z",
     "iopub.status.idle": "2023-03-19T10:04:39.798595Z",
     "shell.execute_reply": "2023-03-19T10:04:39.797480Z"
    },
    "papermill": {
     "duration": 3.671716,
     "end_time": "2023-03-19T10:04:39.801175",
     "exception": false,
     "start_time": "2023-03-19T10:04:36.129459",
     "status": "completed"
    },
    "tags": []
   },
   "outputs": [
    {
     "name": "stderr",
     "output_type": "stream",
     "text": [
      "/opt/conda/lib/python3.7/site-packages/geopandas/_compat.py:115: UserWarning: The Shapely GEOS version (3.9.1-CAPI-1.14.2) is incompatible with the GEOS version PyGEOS was compiled with (3.10.4-CAPI-1.16.2). Conversions between both will be slow.\n",
      "  shapely_geos_version, geos_capi_version_string\n"
     ]
    }
   ],
   "source": [
    "import seaborn as sns\n",
    "import plotly.express as px\n",
    "import plotly.figure_factory as ff\n",
    "import matplotlib.pyplot as plt\n",
    "\n",
    "from sklearn.preprocessing import OneHotEncoder\n",
    "from sklearn.pipeline import Pipeline\n",
    "from sklearn.compose import ColumnTransformer\n",
    "from sklearn import set_config"
   ]
  },
  {
   "cell_type": "code",
   "execution_count": 3,
   "id": "f1f1e4d7",
   "metadata": {
    "execution": {
     "iopub.execute_input": "2023-03-19T10:04:39.813230Z",
     "iopub.status.busy": "2023-03-19T10:04:39.812831Z",
     "iopub.status.idle": "2023-03-19T10:04:39.829524Z",
     "shell.execute_reply": "2023-03-19T10:04:39.827650Z"
    },
    "papermill": {
     "duration": 0.025736,
     "end_time": "2023-03-19T10:04:39.832172",
     "exception": false,
     "start_time": "2023-03-19T10:04:39.806436",
     "status": "completed"
    },
    "tags": []
   },
   "outputs": [],
   "source": [
    "data=pd.read_csv(\"/kaggle/input/evs-one-electric-vehicle-dataset/ElectricCarData_Norm.csv\",encoding='utf-8')"
   ]
  },
  {
   "cell_type": "markdown",
   "id": "bde5ce14",
   "metadata": {
    "papermill": {
     "duration": 0.004874,
     "end_time": "2023-03-19T10:04:39.842497",
     "exception": false,
     "start_time": "2023-03-19T10:04:39.837623",
     "status": "completed"
    },
    "tags": []
   },
   "source": [
    "***EDA***"
   ]
  },
  {
   "cell_type": "code",
   "execution_count": 4,
   "id": "21a55dc4",
   "metadata": {
    "execution": {
     "iopub.execute_input": "2023-03-19T10:04:39.854913Z",
     "iopub.status.busy": "2023-03-19T10:04:39.854491Z",
     "iopub.status.idle": "2023-03-19T10:04:39.884038Z",
     "shell.execute_reply": "2023-03-19T10:04:39.882447Z"
    },
    "papermill": {
     "duration": 0.039098,
     "end_time": "2023-03-19T10:04:39.886842",
     "exception": false,
     "start_time": "2023-03-19T10:04:39.847744",
     "status": "completed"
    },
    "tags": []
   },
   "outputs": [
    {
     "name": "stdout",
     "output_type": "stream",
     "text": [
      "<class 'pandas.core.frame.DataFrame'>\n",
      "RangeIndex: 103 entries, 0 to 102\n",
      "Data columns (total 14 columns):\n",
      " #   Column       Non-Null Count  Dtype \n",
      "---  ------       --------------  ----- \n",
      " 0   Brand        103 non-null    object\n",
      " 1   Model        103 non-null    object\n",
      " 2   Accel        103 non-null    object\n",
      " 3   TopSpeed     103 non-null    object\n",
      " 4   Range        103 non-null    object\n",
      " 5   Efficiency   103 non-null    object\n",
      " 6   FastCharge   103 non-null    object\n",
      " 7   RapidCharge  103 non-null    object\n",
      " 8   PowerTrain   103 non-null    object\n",
      " 9   PlugType     103 non-null    object\n",
      " 10  BodyStyle    103 non-null    object\n",
      " 11  Segment      103 non-null    object\n",
      " 12  Seats        103 non-null    int64 \n",
      " 13  PriceEuro    103 non-null    int64 \n",
      "dtypes: int64(2), object(12)\n",
      "memory usage: 11.4+ KB\n"
     ]
    }
   ],
   "source": [
    "data.info()"
   ]
  },
  {
   "cell_type": "code",
   "execution_count": 5,
   "id": "81b9ace0",
   "metadata": {
    "execution": {
     "iopub.execute_input": "2023-03-19T10:04:39.898802Z",
     "iopub.status.busy": "2023-03-19T10:04:39.898368Z",
     "iopub.status.idle": "2023-03-19T10:04:39.920567Z",
     "shell.execute_reply": "2023-03-19T10:04:39.919889Z"
    },
    "papermill": {
     "duration": 0.030847,
     "end_time": "2023-03-19T10:04:39.922975",
     "exception": false,
     "start_time": "2023-03-19T10:04:39.892128",
     "status": "completed"
    },
    "tags": []
   },
   "outputs": [
    {
     "data": {
      "text/html": [
       "<div>\n",
       "<style scoped>\n",
       "    .dataframe tbody tr th:only-of-type {\n",
       "        vertical-align: middle;\n",
       "    }\n",
       "\n",
       "    .dataframe tbody tr th {\n",
       "        vertical-align: top;\n",
       "    }\n",
       "\n",
       "    .dataframe thead th {\n",
       "        text-align: right;\n",
       "    }\n",
       "</style>\n",
       "<table border=\"1\" class=\"dataframe\">\n",
       "  <thead>\n",
       "    <tr style=\"text-align: right;\">\n",
       "      <th></th>\n",
       "      <th>Brand</th>\n",
       "      <th>Model</th>\n",
       "      <th>Accel</th>\n",
       "      <th>TopSpeed</th>\n",
       "      <th>Range</th>\n",
       "      <th>Efficiency</th>\n",
       "      <th>FastCharge</th>\n",
       "      <th>RapidCharge</th>\n",
       "      <th>PowerTrain</th>\n",
       "      <th>PlugType</th>\n",
       "      <th>BodyStyle</th>\n",
       "      <th>Segment</th>\n",
       "      <th>Seats</th>\n",
       "      <th>PriceEuro</th>\n",
       "    </tr>\n",
       "  </thead>\n",
       "  <tbody>\n",
       "    <tr>\n",
       "      <th>0</th>\n",
       "      <td>Tesla</td>\n",
       "      <td>Model 3 Long Range Dual Motor</td>\n",
       "      <td>4.6 sec</td>\n",
       "      <td>233 km/h</td>\n",
       "      <td>450 km</td>\n",
       "      <td>161 Wh/km</td>\n",
       "      <td>940 km/h</td>\n",
       "      <td>Rapid charging possible</td>\n",
       "      <td>All Wheel Drive</td>\n",
       "      <td>Type 2 CCS</td>\n",
       "      <td>Sedan</td>\n",
       "      <td>D</td>\n",
       "      <td>5</td>\n",
       "      <td>55480</td>\n",
       "    </tr>\n",
       "    <tr>\n",
       "      <th>1</th>\n",
       "      <td>Volkswagen</td>\n",
       "      <td>ID.3 Pure</td>\n",
       "      <td>10.0 sec</td>\n",
       "      <td>160 km/h</td>\n",
       "      <td>270 km</td>\n",
       "      <td>167 Wh/km</td>\n",
       "      <td>250 km/h</td>\n",
       "      <td>Rapid charging possible</td>\n",
       "      <td>Rear Wheel Drive</td>\n",
       "      <td>Type 2 CCS</td>\n",
       "      <td>Hatchback</td>\n",
       "      <td>C</td>\n",
       "      <td>5</td>\n",
       "      <td>30000</td>\n",
       "    </tr>\n",
       "    <tr>\n",
       "      <th>2</th>\n",
       "      <td>Polestar</td>\n",
       "      <td>2</td>\n",
       "      <td>4.7 sec</td>\n",
       "      <td>210 km/h</td>\n",
       "      <td>400 km</td>\n",
       "      <td>181 Wh/km</td>\n",
       "      <td>620 km/h</td>\n",
       "      <td>Rapid charging possible</td>\n",
       "      <td>All Wheel Drive</td>\n",
       "      <td>Type 2 CCS</td>\n",
       "      <td>Liftback</td>\n",
       "      <td>D</td>\n",
       "      <td>5</td>\n",
       "      <td>56440</td>\n",
       "    </tr>\n",
       "    <tr>\n",
       "      <th>3</th>\n",
       "      <td>BMW</td>\n",
       "      <td>iX3</td>\n",
       "      <td>6.8 sec</td>\n",
       "      <td>180 km/h</td>\n",
       "      <td>360 km</td>\n",
       "      <td>206 Wh/km</td>\n",
       "      <td>560 km/h</td>\n",
       "      <td>Rapid charging possible</td>\n",
       "      <td>Rear Wheel Drive</td>\n",
       "      <td>Type 2 CCS</td>\n",
       "      <td>SUV</td>\n",
       "      <td>D</td>\n",
       "      <td>5</td>\n",
       "      <td>68040</td>\n",
       "    </tr>\n",
       "    <tr>\n",
       "      <th>4</th>\n",
       "      <td>Honda</td>\n",
       "      <td>e</td>\n",
       "      <td>9.5 sec</td>\n",
       "      <td>145 km/h</td>\n",
       "      <td>170 km</td>\n",
       "      <td>168 Wh/km</td>\n",
       "      <td>190 km/h</td>\n",
       "      <td>Rapid charging possible</td>\n",
       "      <td>Rear Wheel Drive</td>\n",
       "      <td>Type 2 CCS</td>\n",
       "      <td>Hatchback</td>\n",
       "      <td>B</td>\n",
       "      <td>4</td>\n",
       "      <td>32997</td>\n",
       "    </tr>\n",
       "  </tbody>\n",
       "</table>\n",
       "</div>"
      ],
      "text/plain": [
       "         Brand                          Model     Accel  TopSpeed   Range  \\\n",
       "0       Tesla   Model 3 Long Range Dual Motor   4.6 sec  233 km/h  450 km   \n",
       "1  Volkswagen                       ID.3 Pure  10.0 sec  160 km/h  270 km   \n",
       "2    Polestar                               2   4.7 sec  210 km/h  400 km   \n",
       "3         BMW                            iX3    6.8 sec  180 km/h  360 km   \n",
       "4       Honda                              e    9.5 sec  145 km/h  170 km   \n",
       "\n",
       "  Efficiency FastCharge              RapidCharge        PowerTrain  \\\n",
       "0  161 Wh/km   940 km/h  Rapid charging possible   All Wheel Drive   \n",
       "1  167 Wh/km   250 km/h  Rapid charging possible  Rear Wheel Drive   \n",
       "2  181 Wh/km   620 km/h  Rapid charging possible   All Wheel Drive   \n",
       "3  206 Wh/km   560 km/h  Rapid charging possible  Rear Wheel Drive   \n",
       "4  168 Wh/km   190 km/h  Rapid charging possible  Rear Wheel Drive   \n",
       "\n",
       "     PlugType  BodyStyle Segment  Seats  PriceEuro  \n",
       "0  Type 2 CCS      Sedan       D      5      55480  \n",
       "1  Type 2 CCS  Hatchback       C      5      30000  \n",
       "2  Type 2 CCS   Liftback       D      5      56440  \n",
       "3  Type 2 CCS        SUV       D      5      68040  \n",
       "4  Type 2 CCS  Hatchback       B      4      32997  "
      ]
     },
     "execution_count": 5,
     "metadata": {},
     "output_type": "execute_result"
    }
   ],
   "source": [
    "data.head()"
   ]
  },
  {
   "cell_type": "code",
   "execution_count": 6,
   "id": "7d15e7ac",
   "metadata": {
    "execution": {
     "iopub.execute_input": "2023-03-19T10:04:39.935446Z",
     "iopub.status.busy": "2023-03-19T10:04:39.935016Z",
     "iopub.status.idle": "2023-03-19T10:04:39.944455Z",
     "shell.execute_reply": "2023-03-19T10:04:39.943471Z"
    },
    "papermill": {
     "duration": 0.018498,
     "end_time": "2023-03-19T10:04:39.946925",
     "exception": false,
     "start_time": "2023-03-19T10:04:39.928427",
     "status": "completed"
    },
    "tags": []
   },
   "outputs": [
    {
     "data": {
      "text/plain": [
       "Brand          0\n",
       "Model          0\n",
       "Accel          0\n",
       "TopSpeed       0\n",
       "Range          0\n",
       "Efficiency     0\n",
       "FastCharge     0\n",
       "RapidCharge    0\n",
       "PowerTrain     0\n",
       "PlugType       0\n",
       "BodyStyle      0\n",
       "Segment        0\n",
       "Seats          0\n",
       "PriceEuro      0\n",
       "dtype: int64"
      ]
     },
     "execution_count": 6,
     "metadata": {},
     "output_type": "execute_result"
    }
   ],
   "source": [
    "data.isnull().sum()"
   ]
  },
  {
   "cell_type": "code",
   "execution_count": null,
   "id": "c13fc367",
   "metadata": {
    "papermill": {
     "duration": 0.005258,
     "end_time": "2023-03-19T10:04:39.957961",
     "exception": false,
     "start_time": "2023-03-19T10:04:39.952703",
     "status": "completed"
    },
    "tags": []
   },
   "outputs": [],
   "source": []
  },
  {
   "cell_type": "markdown",
   "id": "d398b85d",
   "metadata": {
    "papermill": {
     "duration": 0.005102,
     "end_time": "2023-03-19T10:04:39.968531",
     "exception": false,
     "start_time": "2023-03-19T10:04:39.963429",
     "status": "completed"
    },
    "tags": []
   },
   "source": [
    "**Str Handling**"
   ]
  },
  {
   "cell_type": "code",
   "execution_count": 7,
   "id": "6caa56b2",
   "metadata": {
    "execution": {
     "iopub.execute_input": "2023-03-19T10:04:39.981010Z",
     "iopub.status.busy": "2023-03-19T10:04:39.980576Z",
     "iopub.status.idle": "2023-03-19T10:04:39.994529Z",
     "shell.execute_reply": "2023-03-19T10:04:39.993230Z"
    },
    "papermill": {
     "duration": 0.022548,
     "end_time": "2023-03-19T10:04:39.996506",
     "exception": false,
     "start_time": "2023-03-19T10:04:39.973958",
     "status": "completed"
    },
    "tags": []
   },
   "outputs": [],
   "source": [
    "# Handling Top speed type\n",
    "data['TopSpeed (km/h)'] = data['TopSpeed'].apply(lambda x: x.split()[0]).astype('float64')\n",
    "# Handling Acceleration\n",
    "data['Accel (sec)'] = data['Accel'].apply(lambda x: x.split()[0]).astype('float64')\n",
    "# Handling Range\n",
    "data['Range (km)'] = data['Range'].apply(lambda x: x.split()[0]).astype('float64')\n",
    "# Handling Power Efficiency\n",
    "data['Efficiency (Wh/km)'] = data['Efficiency'].apply(lambda x: x.split()[0]).astype('float64')\n",
    "# Handling Fast Charge\n",
    "data['FastCharge'] = data['FastCharge'].apply(lambda x: x.replace('-',str(0)))\n",
    "data['FastCharge (km/h)'] = data['FastCharge'].apply(lambda x: x.split()[0]).astype('float64')"
   ]
  },
  {
   "cell_type": "markdown",
   "id": "a771b73c",
   "metadata": {
    "papermill": {
     "duration": 0.005199,
     "end_time": "2023-03-19T10:04:40.007335",
     "exception": false,
     "start_time": "2023-03-19T10:04:40.002136",
     "status": "completed"
    },
    "tags": []
   },
   "source": [
    "**Categorical Data Handling**"
   ]
  },
  {
   "cell_type": "code",
   "execution_count": 8,
   "id": "16c71720",
   "metadata": {
    "execution": {
     "iopub.execute_input": "2023-03-19T10:04:40.019633Z",
     "iopub.status.busy": "2023-03-19T10:04:40.019250Z",
     "iopub.status.idle": "2023-03-19T10:04:40.023554Z",
     "shell.execute_reply": "2023-03-19T10:04:40.022649Z"
    },
    "papermill": {
     "duration": 0.012584,
     "end_time": "2023-03-19T10:04:40.025314",
     "exception": false,
     "start_time": "2023-03-19T10:04:40.012730",
     "status": "completed"
    },
    "tags": []
   },
   "outputs": [],
   "source": [
    "# def oneHotEndcoder(transformer,data_former_numerical,data_former_category):\n",
    "#   transformer.fit(data_former_category)\n",
    "#   data_after_transform = pd.DataFrame(data=transformer.transform(data_former_category).toarray(),columns=transformer.get_feature_names_out())\n",
    "#   return transformer,pd.concat([data_former_numerical,data_after_transform],axis=1)\n"
   ]
  },
  {
   "cell_type": "code",
   "execution_count": 9,
   "id": "91363535",
   "metadata": {
    "execution": {
     "iopub.execute_input": "2023-03-19T10:04:40.038326Z",
     "iopub.status.busy": "2023-03-19T10:04:40.037910Z",
     "iopub.status.idle": "2023-03-19T10:04:40.042292Z",
     "shell.execute_reply": "2023-03-19T10:04:40.041246Z"
    },
    "papermill": {
     "duration": 0.013473,
     "end_time": "2023-03-19T10:04:40.044325",
     "exception": false,
     "start_time": "2023-03-19T10:04:40.030852",
     "status": "completed"
    },
    "tags": []
   },
   "outputs": [],
   "source": [
    "\n",
    "# ohe_encoder = OneHotEncoder(sparse=True)\n",
    "# cat_cols=list(data.drop(columns=['TopSpeed','Accel','Range','Efficiency','FastCharge']).select_dtypes(include=['object']).columns)\n",
    "\n",
    "\n",
    "\n",
    "# data_former_category = data.loc[:,cat_cols]\n",
    "# data_former_numerical = data.drop(columns = cat_cols)\n",
    "# ohe_encoder, data = oneHotEndcoder(ohe_encoder,data_former_numerical,data_former_category)\n",
    "\n"
   ]
  },
  {
   "cell_type": "code",
   "execution_count": 10,
   "id": "b66d1c5c",
   "metadata": {
    "execution": {
     "iopub.execute_input": "2023-03-19T10:04:40.058149Z",
     "iopub.status.busy": "2023-03-19T10:04:40.057717Z",
     "iopub.status.idle": "2023-03-19T10:04:40.062532Z",
     "shell.execute_reply": "2023-03-19T10:04:40.061240Z"
    },
    "papermill": {
     "duration": 0.013993,
     "end_time": "2023-03-19T10:04:40.064935",
     "exception": false,
     "start_time": "2023-03-19T10:04:40.050942",
     "status": "completed"
    },
    "tags": []
   },
   "outputs": [],
   "source": [
    "# data.head()"
   ]
  },
  {
   "cell_type": "markdown",
   "id": "8c52dae4",
   "metadata": {
    "papermill": {
     "duration": 0.005192,
     "end_time": "2023-03-19T10:04:40.075892",
     "exception": false,
     "start_time": "2023-03-19T10:04:40.070700",
     "status": "completed"
    },
    "tags": []
   },
   "source": [
    "****top10FastestEV****"
   ]
  },
  {
   "cell_type": "code",
   "execution_count": 11,
   "id": "53e0569a",
   "metadata": {
    "execution": {
     "iopub.execute_input": "2023-03-19T10:04:40.089026Z",
     "iopub.status.busy": "2023-03-19T10:04:40.088157Z",
     "iopub.status.idle": "2023-03-19T10:04:40.096677Z",
     "shell.execute_reply": "2023-03-19T10:04:40.095768Z"
    },
    "papermill": {
     "duration": 0.018117,
     "end_time": "2023-03-19T10:04:40.099432",
     "exception": false,
     "start_time": "2023-03-19T10:04:40.081315",
     "status": "completed"
    },
    "tags": []
   },
   "outputs": [],
   "source": [
    "top10FastestEV=data.sort_values(['TopSpeed'], ascending=False).reset_index().iloc[0:10]"
   ]
  },
  {
   "cell_type": "code",
   "execution_count": 12,
   "id": "f2e6f1e0",
   "metadata": {
    "execution": {
     "iopub.execute_input": "2023-03-19T10:04:40.112546Z",
     "iopub.status.busy": "2023-03-19T10:04:40.112148Z",
     "iopub.status.idle": "2023-03-19T10:04:40.119567Z",
     "shell.execute_reply": "2023-03-19T10:04:40.118161Z"
    },
    "papermill": {
     "duration": 0.016446,
     "end_time": "2023-03-19T10:04:40.121735",
     "exception": false,
     "start_time": "2023-03-19T10:04:40.105289",
     "status": "completed"
    },
    "tags": []
   },
   "outputs": [],
   "source": [
    "top10FastestEV['CarName'] = top10FastestEV['Brand']+top10FastestEV['Model']"
   ]
  },
  {
   "cell_type": "code",
   "execution_count": 13,
   "id": "a626d9b0",
   "metadata": {
    "execution": {
     "iopub.execute_input": "2023-03-19T10:04:40.134996Z",
     "iopub.status.busy": "2023-03-19T10:04:40.134438Z",
     "iopub.status.idle": "2023-03-19T10:04:40.140670Z",
     "shell.execute_reply": "2023-03-19T10:04:40.138943Z"
    },
    "papermill": {
     "duration": 0.01565,
     "end_time": "2023-03-19T10:04:40.143267",
     "exception": false,
     "start_time": "2023-03-19T10:04:40.127617",
     "status": "completed"
    },
    "tags": []
   },
   "outputs": [],
   "source": [
    "# f=plt.figure(figsize=(12,4))\n",
    "# ax=f.add_subplot(111)\n",
    "# sns.barplot(x=top10FastestEV['Brand']+top10FastestEV['Model'], y=top10FastestEV['TopSpeed'])\n",
    "# ax.set_xticklabels(ax.get_xticklabels,rotation='45')\n"
   ]
  },
  {
   "cell_type": "code",
   "execution_count": 14,
   "id": "91a80ebe",
   "metadata": {
    "execution": {
     "iopub.execute_input": "2023-03-19T10:04:40.157348Z",
     "iopub.status.busy": "2023-03-19T10:04:40.155874Z",
     "iopub.status.idle": "2023-03-19T10:04:41.302757Z",
     "shell.execute_reply": "2023-03-19T10:04:41.301495Z"
    },
    "papermill": {
     "duration": 1.155688,
     "end_time": "2023-03-19T10:04:41.304868",
     "exception": false,
     "start_time": "2023-03-19T10:04:40.149180",
     "status": "completed"
    },
    "tags": []
   },
   "outputs": [
    {
     "data": {
      "text/html": [
       "        <script type=\"text/javascript\">\n",
       "        window.PlotlyConfig = {MathJaxConfig: 'local'};\n",
       "        if (window.MathJax && window.MathJax.Hub && window.MathJax.Hub.Config) {window.MathJax.Hub.Config({SVG: {font: \"STIX-Web\"}});}\n",
       "        if (typeof require !== 'undefined') {\n",
       "        require.undef(\"plotly\");\n",
       "        requirejs.config({\n",
       "            paths: {\n",
       "                'plotly': ['https://cdn.plot.ly/plotly-2.18.0.min']\n",
       "            }\n",
       "        });\n",
       "        require(['plotly'], function(Plotly) {\n",
       "            window._Plotly = Plotly;\n",
       "        });\n",
       "        }\n",
       "        </script>\n",
       "        "
      ]
     },
     "metadata": {},
     "output_type": "display_data"
    },
    {
     "data": {
      "text/html": [
       "<div>                            <div id=\"b4516e6b-26d7-4bc2-8aff-d0e19818ab20\" class=\"plotly-graph-div\" style=\"height:525px; width:100%;\"></div>            <script type=\"text/javascript\">                require([\"plotly\"], function(Plotly) {                    window.PLOTLYENV=window.PLOTLYENV || {};                                    if (document.getElementById(\"b4516e6b-26d7-4bc2-8aff-d0e19818ab20\")) {                    Plotly.newPlot(                        \"b4516e6b-26d7-4bc2-8aff-d0e19818ab20\",                        [{\"alignmentgroup\":\"True\",\"customdata\":[[\"2.1 sec\",\"All Wheel Drive\"]],\"hovertemplate\":\"TopSpeed=410 km/h<br>CarName=%{x}<br>TopSpeed (km/h)=%{y}<br>Accel=%{customdata[0]}<br>PowerTrain=%{customdata[1]}<extra></extra>\",\"legendgroup\":\"410 km/h\",\"marker\":{\"color\":\"#636efa\",\"pattern\":{\"shape\":\"\"}},\"name\":\"410 km/h\",\"offsetgroup\":\"410 km/h\",\"orientation\":\"v\",\"showlegend\":true,\"textposition\":\"auto\",\"texttemplate\":\"%{y:.2s}\",\"x\":[\"Tesla Roadster \"],\"xaxis\":\"x\",\"y\":[410.0],\"yaxis\":\"y\",\"type\":\"bar\"},{\"alignmentgroup\":\"True\",\"customdata\":[[\"2.5 sec\",\"All Wheel Drive\"],[\"3.4 sec\",\"All Wheel Drive\"]],\"hovertemplate\":\"TopSpeed=261 km/h<br>CarName=%{x}<br>TopSpeed (km/h)=%{y}<br>Accel=%{customdata[0]}<br>PowerTrain=%{customdata[1]}<extra></extra>\",\"legendgroup\":\"261 km/h\",\"marker\":{\"color\":\"#EF553B\",\"pattern\":{\"shape\":\"\"}},\"name\":\"261 km/h\",\"offsetgroup\":\"261 km/h\",\"orientation\":\"v\",\"showlegend\":true,\"textposition\":\"auto\",\"texttemplate\":\"%{y:.2s}\",\"x\":[\"Tesla Model S Performance\",\"Tesla Model 3 Long Range Performance\"],\"xaxis\":\"x\",\"y\":[261.0,261.0],\"yaxis\":\"y\",\"type\":\"bar\"},{\"alignmentgroup\":\"True\",\"customdata\":[[\"2.8 sec\",\"All Wheel Drive\"],[\"3.2 sec\",\"All Wheel Drive\"]],\"hovertemplate\":\"TopSpeed=260 km/h<br>CarName=%{x}<br>TopSpeed (km/h)=%{y}<br>Accel=%{customdata[0]}<br>PowerTrain=%{customdata[1]}<extra></extra>\",\"legendgroup\":\"260 km/h\",\"marker\":{\"color\":\"#00cc96\",\"pattern\":{\"shape\":\"\"}},\"name\":\"260 km/h\",\"offsetgroup\":\"260 km/h\",\"orientation\":\"v\",\"showlegend\":true,\"textposition\":\"auto\",\"texttemplate\":\"%{y:.2s}\",\"x\":[\"Porsche Taycan Turbo S\",\"Porsche Taycan Turbo\"],\"xaxis\":\"x\",\"y\":[260.0,260.0],\"yaxis\":\"y\",\"type\":\"bar\"},{\"alignmentgroup\":\"True\",\"customdata\":[[\"2.8 sec\",\"All Wheel Drive\"],[\"3.5 sec\",\"All Wheel Drive\"],[\"2.8 sec\",\"All Wheel Drive\"],[\"4.0 sec\",\"All Wheel Drive\"],[\"4.6 sec\",\"All Wheel Drive\"]],\"hovertemplate\":\"TopSpeed=250 km/h<br>CarName=%{x}<br>TopSpeed (km/h)=%{y}<br>Accel=%{customdata[0]}<br>PowerTrain=%{customdata[1]}<extra></extra>\",\"legendgroup\":\"250 km/h\",\"marker\":{\"color\":\"#ab63fa\",\"pattern\":{\"shape\":\"\"}},\"name\":\"250 km/h\",\"offsetgroup\":\"250 km/h\",\"orientation\":\"v\",\"showlegend\":true,\"textposition\":\"auto\",\"texttemplate\":\"%{y:.2s}\",\"x\":[\"Tesla Model X Performance\",\"Porsche Taycan Cross Turismo \",\"Lucid Air \",\"Porsche Taycan 4S Plus\",\"Tesla Model X Long Range\"],\"xaxis\":\"x\",\"y\":[250.0,250.0,250.0,250.0,250.0],\"yaxis\":\"y\",\"type\":\"bar\"}],                        {\"template\":{\"data\":{\"histogram2dcontour\":[{\"type\":\"histogram2dcontour\",\"colorbar\":{\"outlinewidth\":0,\"ticks\":\"\"},\"colorscale\":[[0.0,\"#0d0887\"],[0.1111111111111111,\"#46039f\"],[0.2222222222222222,\"#7201a8\"],[0.3333333333333333,\"#9c179e\"],[0.4444444444444444,\"#bd3786\"],[0.5555555555555556,\"#d8576b\"],[0.6666666666666666,\"#ed7953\"],[0.7777777777777778,\"#fb9f3a\"],[0.8888888888888888,\"#fdca26\"],[1.0,\"#f0f921\"]]}],\"choropleth\":[{\"type\":\"choropleth\",\"colorbar\":{\"outlinewidth\":0,\"ticks\":\"\"}}],\"histogram2d\":[{\"type\":\"histogram2d\",\"colorbar\":{\"outlinewidth\":0,\"ticks\":\"\"},\"colorscale\":[[0.0,\"#0d0887\"],[0.1111111111111111,\"#46039f\"],[0.2222222222222222,\"#7201a8\"],[0.3333333333333333,\"#9c179e\"],[0.4444444444444444,\"#bd3786\"],[0.5555555555555556,\"#d8576b\"],[0.6666666666666666,\"#ed7953\"],[0.7777777777777778,\"#fb9f3a\"],[0.8888888888888888,\"#fdca26\"],[1.0,\"#f0f921\"]]}],\"heatmap\":[{\"type\":\"heatmap\",\"colorbar\":{\"outlinewidth\":0,\"ticks\":\"\"},\"colorscale\":[[0.0,\"#0d0887\"],[0.1111111111111111,\"#46039f\"],[0.2222222222222222,\"#7201a8\"],[0.3333333333333333,\"#9c179e\"],[0.4444444444444444,\"#bd3786\"],[0.5555555555555556,\"#d8576b\"],[0.6666666666666666,\"#ed7953\"],[0.7777777777777778,\"#fb9f3a\"],[0.8888888888888888,\"#fdca26\"],[1.0,\"#f0f921\"]]}],\"heatmapgl\":[{\"type\":\"heatmapgl\",\"colorbar\":{\"outlinewidth\":0,\"ticks\":\"\"},\"colorscale\":[[0.0,\"#0d0887\"],[0.1111111111111111,\"#46039f\"],[0.2222222222222222,\"#7201a8\"],[0.3333333333333333,\"#9c179e\"],[0.4444444444444444,\"#bd3786\"],[0.5555555555555556,\"#d8576b\"],[0.6666666666666666,\"#ed7953\"],[0.7777777777777778,\"#fb9f3a\"],[0.8888888888888888,\"#fdca26\"],[1.0,\"#f0f921\"]]}],\"contourcarpet\":[{\"type\":\"contourcarpet\",\"colorbar\":{\"outlinewidth\":0,\"ticks\":\"\"}}],\"contour\":[{\"type\":\"contour\",\"colorbar\":{\"outlinewidth\":0,\"ticks\":\"\"},\"colorscale\":[[0.0,\"#0d0887\"],[0.1111111111111111,\"#46039f\"],[0.2222222222222222,\"#7201a8\"],[0.3333333333333333,\"#9c179e\"],[0.4444444444444444,\"#bd3786\"],[0.5555555555555556,\"#d8576b\"],[0.6666666666666666,\"#ed7953\"],[0.7777777777777778,\"#fb9f3a\"],[0.8888888888888888,\"#fdca26\"],[1.0,\"#f0f921\"]]}],\"surface\":[{\"type\":\"surface\",\"colorbar\":{\"outlinewidth\":0,\"ticks\":\"\"},\"colorscale\":[[0.0,\"#0d0887\"],[0.1111111111111111,\"#46039f\"],[0.2222222222222222,\"#7201a8\"],[0.3333333333333333,\"#9c179e\"],[0.4444444444444444,\"#bd3786\"],[0.5555555555555556,\"#d8576b\"],[0.6666666666666666,\"#ed7953\"],[0.7777777777777778,\"#fb9f3a\"],[0.8888888888888888,\"#fdca26\"],[1.0,\"#f0f921\"]]}],\"mesh3d\":[{\"type\":\"mesh3d\",\"colorbar\":{\"outlinewidth\":0,\"ticks\":\"\"}}],\"scatter\":[{\"fillpattern\":{\"fillmode\":\"overlay\",\"size\":10,\"solidity\":0.2},\"type\":\"scatter\"}],\"parcoords\":[{\"type\":\"parcoords\",\"line\":{\"colorbar\":{\"outlinewidth\":0,\"ticks\":\"\"}}}],\"scatterpolargl\":[{\"type\":\"scatterpolargl\",\"marker\":{\"colorbar\":{\"outlinewidth\":0,\"ticks\":\"\"}}}],\"bar\":[{\"error_x\":{\"color\":\"#2a3f5f\"},\"error_y\":{\"color\":\"#2a3f5f\"},\"marker\":{\"line\":{\"color\":\"#E5ECF6\",\"width\":0.5},\"pattern\":{\"fillmode\":\"overlay\",\"size\":10,\"solidity\":0.2}},\"type\":\"bar\"}],\"scattergeo\":[{\"type\":\"scattergeo\",\"marker\":{\"colorbar\":{\"outlinewidth\":0,\"ticks\":\"\"}}}],\"scatterpolar\":[{\"type\":\"scatterpolar\",\"marker\":{\"colorbar\":{\"outlinewidth\":0,\"ticks\":\"\"}}}],\"histogram\":[{\"marker\":{\"pattern\":{\"fillmode\":\"overlay\",\"size\":10,\"solidity\":0.2}},\"type\":\"histogram\"}],\"scattergl\":[{\"type\":\"scattergl\",\"marker\":{\"colorbar\":{\"outlinewidth\":0,\"ticks\":\"\"}}}],\"scatter3d\":[{\"type\":\"scatter3d\",\"line\":{\"colorbar\":{\"outlinewidth\":0,\"ticks\":\"\"}},\"marker\":{\"colorbar\":{\"outlinewidth\":0,\"ticks\":\"\"}}}],\"scattermapbox\":[{\"type\":\"scattermapbox\",\"marker\":{\"colorbar\":{\"outlinewidth\":0,\"ticks\":\"\"}}}],\"scatterternary\":[{\"type\":\"scatterternary\",\"marker\":{\"colorbar\":{\"outlinewidth\":0,\"ticks\":\"\"}}}],\"scattercarpet\":[{\"type\":\"scattercarpet\",\"marker\":{\"colorbar\":{\"outlinewidth\":0,\"ticks\":\"\"}}}],\"carpet\":[{\"aaxis\":{\"endlinecolor\":\"#2a3f5f\",\"gridcolor\":\"white\",\"linecolor\":\"white\",\"minorgridcolor\":\"white\",\"startlinecolor\":\"#2a3f5f\"},\"baxis\":{\"endlinecolor\":\"#2a3f5f\",\"gridcolor\":\"white\",\"linecolor\":\"white\",\"minorgridcolor\":\"white\",\"startlinecolor\":\"#2a3f5f\"},\"type\":\"carpet\"}],\"table\":[{\"cells\":{\"fill\":{\"color\":\"#EBF0F8\"},\"line\":{\"color\":\"white\"}},\"header\":{\"fill\":{\"color\":\"#C8D4E3\"},\"line\":{\"color\":\"white\"}},\"type\":\"table\"}],\"barpolar\":[{\"marker\":{\"line\":{\"color\":\"#E5ECF6\",\"width\":0.5},\"pattern\":{\"fillmode\":\"overlay\",\"size\":10,\"solidity\":0.2}},\"type\":\"barpolar\"}],\"pie\":[{\"automargin\":true,\"type\":\"pie\"}]},\"layout\":{\"autotypenumbers\":\"strict\",\"colorway\":[\"#636efa\",\"#EF553B\",\"#00cc96\",\"#ab63fa\",\"#FFA15A\",\"#19d3f3\",\"#FF6692\",\"#B6E880\",\"#FF97FF\",\"#FECB52\"],\"font\":{\"color\":\"#2a3f5f\"},\"hovermode\":\"closest\",\"hoverlabel\":{\"align\":\"left\"},\"paper_bgcolor\":\"white\",\"plot_bgcolor\":\"#E5ECF6\",\"polar\":{\"bgcolor\":\"#E5ECF6\",\"angularaxis\":{\"gridcolor\":\"white\",\"linecolor\":\"white\",\"ticks\":\"\"},\"radialaxis\":{\"gridcolor\":\"white\",\"linecolor\":\"white\",\"ticks\":\"\"}},\"ternary\":{\"bgcolor\":\"#E5ECF6\",\"aaxis\":{\"gridcolor\":\"white\",\"linecolor\":\"white\",\"ticks\":\"\"},\"baxis\":{\"gridcolor\":\"white\",\"linecolor\":\"white\",\"ticks\":\"\"},\"caxis\":{\"gridcolor\":\"white\",\"linecolor\":\"white\",\"ticks\":\"\"}},\"coloraxis\":{\"colorbar\":{\"outlinewidth\":0,\"ticks\":\"\"}},\"colorscale\":{\"sequential\":[[0.0,\"#0d0887\"],[0.1111111111111111,\"#46039f\"],[0.2222222222222222,\"#7201a8\"],[0.3333333333333333,\"#9c179e\"],[0.4444444444444444,\"#bd3786\"],[0.5555555555555556,\"#d8576b\"],[0.6666666666666666,\"#ed7953\"],[0.7777777777777778,\"#fb9f3a\"],[0.8888888888888888,\"#fdca26\"],[1.0,\"#f0f921\"]],\"sequentialminus\":[[0.0,\"#0d0887\"],[0.1111111111111111,\"#46039f\"],[0.2222222222222222,\"#7201a8\"],[0.3333333333333333,\"#9c179e\"],[0.4444444444444444,\"#bd3786\"],[0.5555555555555556,\"#d8576b\"],[0.6666666666666666,\"#ed7953\"],[0.7777777777777778,\"#fb9f3a\"],[0.8888888888888888,\"#fdca26\"],[1.0,\"#f0f921\"]],\"diverging\":[[0,\"#8e0152\"],[0.1,\"#c51b7d\"],[0.2,\"#de77ae\"],[0.3,\"#f1b6da\"],[0.4,\"#fde0ef\"],[0.5,\"#f7f7f7\"],[0.6,\"#e6f5d0\"],[0.7,\"#b8e186\"],[0.8,\"#7fbc41\"],[0.9,\"#4d9221\"],[1,\"#276419\"]]},\"xaxis\":{\"gridcolor\":\"white\",\"linecolor\":\"white\",\"ticks\":\"\",\"title\":{\"standoff\":15},\"zerolinecolor\":\"white\",\"automargin\":true,\"zerolinewidth\":2},\"yaxis\":{\"gridcolor\":\"white\",\"linecolor\":\"white\",\"ticks\":\"\",\"title\":{\"standoff\":15},\"zerolinecolor\":\"white\",\"automargin\":true,\"zerolinewidth\":2},\"scene\":{\"xaxis\":{\"backgroundcolor\":\"#E5ECF6\",\"gridcolor\":\"white\",\"linecolor\":\"white\",\"showbackground\":true,\"ticks\":\"\",\"zerolinecolor\":\"white\",\"gridwidth\":2},\"yaxis\":{\"backgroundcolor\":\"#E5ECF6\",\"gridcolor\":\"white\",\"linecolor\":\"white\",\"showbackground\":true,\"ticks\":\"\",\"zerolinecolor\":\"white\",\"gridwidth\":2},\"zaxis\":{\"backgroundcolor\":\"#E5ECF6\",\"gridcolor\":\"white\",\"linecolor\":\"white\",\"showbackground\":true,\"ticks\":\"\",\"zerolinecolor\":\"white\",\"gridwidth\":2}},\"shapedefaults\":{\"line\":{\"color\":\"#2a3f5f\"}},\"annotationdefaults\":{\"arrowcolor\":\"#2a3f5f\",\"arrowhead\":0,\"arrowwidth\":1},\"geo\":{\"bgcolor\":\"white\",\"landcolor\":\"#E5ECF6\",\"subunitcolor\":\"white\",\"showland\":true,\"showlakes\":true,\"lakecolor\":\"white\"},\"title\":{\"x\":0.05},\"mapbox\":{\"style\":\"light\"}}},\"xaxis\":{\"anchor\":\"y\",\"domain\":[0.0,1.0],\"title\":{\"text\":\"CarName\"}},\"yaxis\":{\"anchor\":\"x\",\"domain\":[0.0,1.0],\"title\":{\"text\":\"TopSpeed (km/h)\"}},\"legend\":{\"title\":{\"text\":\"TopSpeed\"},\"tracegroupgap\":0},\"title\":{\"text\":\"Top 10 Fastest EVs\"},\"barmode\":\"relative\"},                        {\"responsive\": true}                    ).then(function(){\n",
       "                            \n",
       "var gd = document.getElementById('b4516e6b-26d7-4bc2-8aff-d0e19818ab20');\n",
       "var x = new MutationObserver(function (mutations, observer) {{\n",
       "        var display = window.getComputedStyle(gd).display;\n",
       "        if (!display || display === 'none') {{\n",
       "            console.log([gd, 'removed!']);\n",
       "            Plotly.purge(gd);\n",
       "            observer.disconnect();\n",
       "        }}\n",
       "}});\n",
       "\n",
       "// Listen for the removal of the full notebook cells\n",
       "var notebookContainer = gd.closest('#notebook-container');\n",
       "if (notebookContainer) {{\n",
       "    x.observe(notebookContainer, {childList: true});\n",
       "}}\n",
       "\n",
       "// Listen for the clearing of the current output cell\n",
       "var outputEl = gd.closest('.output');\n",
       "if (outputEl) {{\n",
       "    x.observe(outputEl, {childList: true});\n",
       "}}\n",
       "\n",
       "                        })                };                });            </script>        </div>"
      ]
     },
     "metadata": {},
     "output_type": "display_data"
    }
   ],
   "source": [
    "px.bar(top10FastestEV,x='CarName', y='TopSpeed (km/h)',hover_data=['Accel','PowerTrain'],color='TopSpeed',text_auto='.2s',title='Top 10 Fastest EVs')"
   ]
  },
  {
   "cell_type": "markdown",
   "id": "df95e63f",
   "metadata": {
    "papermill": {
     "duration": 0.006119,
     "end_time": "2023-03-19T10:04:41.317099",
     "exception": false,
     "start_time": "2023-03-19T10:04:41.310980",
     "status": "completed"
    },
    "tags": []
   },
   "source": [
    "**Speed distribution**"
   ]
  },
  {
   "cell_type": "code",
   "execution_count": 15,
   "id": "63e34ee1",
   "metadata": {
    "execution": {
     "iopub.execute_input": "2023-03-19T10:04:41.330379Z",
     "iopub.status.busy": "2023-03-19T10:04:41.329981Z",
     "iopub.status.idle": "2023-03-19T10:04:41.340066Z",
     "shell.execute_reply": "2023-03-19T10:04:41.338415Z"
    },
    "papermill": {
     "duration": 0.019382,
     "end_time": "2023-03-19T10:04:41.342167",
     "exception": false,
     "start_time": "2023-03-19T10:04:41.322785",
     "status": "completed"
    },
    "tags": []
   },
   "outputs": [],
   "source": [
    "topspeed_cate = pd.cut(data['TopSpeed (km/h)'], bins=[0,50,100,150,200,250,300,350,400,450], labels=[\"0-50\",\"50-100\",\"100-150\",\"150-200\",\"200-250\",\"250-300\",\"300-350\",\"350-400\",\"400-450\"]) "
   ]
  },
  {
   "cell_type": "code",
   "execution_count": 16,
   "id": "fd30d454",
   "metadata": {
    "execution": {
     "iopub.execute_input": "2023-03-19T10:04:41.355196Z",
     "iopub.status.busy": "2023-03-19T10:04:41.354845Z",
     "iopub.status.idle": "2023-03-19T10:04:41.444182Z",
     "shell.execute_reply": "2023-03-19T10:04:41.442675Z"
    },
    "papermill": {
     "duration": 0.098849,
     "end_time": "2023-03-19T10:04:41.446898",
     "exception": false,
     "start_time": "2023-03-19T10:04:41.348049",
     "status": "completed"
    },
    "tags": []
   },
   "outputs": [
    {
     "data": {
      "text/html": [
       "<div>                            <div id=\"0034dbb0-fccc-4ee0-abf2-a28af8e85661\" class=\"plotly-graph-div\" style=\"height:525px; width:100%;\"></div>            <script type=\"text/javascript\">                require([\"plotly\"], function(Plotly) {                    window.PLOTLYENV=window.PLOTLYENV || {};                                    if (document.getElementById(\"0034dbb0-fccc-4ee0-abf2-a28af8e85661\")) {                    Plotly.newPlot(                        \"0034dbb0-fccc-4ee0-abf2-a28af8e85661\",                        [{\"alignmentgroup\":\"True\",\"bingroup\":\"x\",\"hovertemplate\":\"variable=TopSpeed (km/h)<br>value=%{x}<br>count=%{y}<extra></extra>\",\"legendgroup\":\"TopSpeed (km/h)\",\"marker\":{\"color\":\"#636efa\",\"pattern\":{\"shape\":\"\"}},\"name\":\"TopSpeed (km/h)\",\"offsetgroup\":\"TopSpeed (km/h)\",\"orientation\":\"v\",\"showlegend\":true,\"texttemplate\":\"%{value}\",\"x\":[\"200-250\",\"150-200\",\"200-250\",\"150-200\",\"100-150\",\"200-250\",\"100-150\",\"100-150\",\"200-250\",\"150-200\",\"150-200\",\"100-150\",\"150-200\",\"150-200\",\"150-200\",\"150-200\",\"250-300\",\"100-150\",\"100-150\",\"100-150\",\"100-150\",\"200-250\",\"150-200\",\"200-250\",\"250-300\",\"150-200\",\"150-200\",\"150-200\",\"100-150\",\"100-150\",\"150-200\",\"150-200\",\"100-150\",\"200-250\",\"100-150\",\"150-200\",\"150-200\",\"150-200\",\"100-150\",\"150-200\",\"200-250\",\"150-200\",\"150-200\",\"100-150\",\"100-150\",\"150-200\",\"100-150\",\"200-250\",\"100-150\",\"100-150\",\"150-200\",\"400-450\",\"100-150\",\"150-200\",\"200-250\",\"100-150\",\"100-150\",\"100-150\",\"100-150\",\"250-300\",\"100-150\",\"200-250\",\"150-200\",\"150-200\",\"150-200\",\"200-250\",\"100-150\",\"150-200\",\"100-150\",\"150-200\",\"150-200\",\"150-200\",\"200-250\",\"150-200\",\"100-150\",\"150-200\",\"150-200\",\"100-150\",\"150-200\",\"250-300\",\"150-200\",\"200-250\",\"100-150\",\"150-200\",\"100-150\",\"100-150\",\"150-200\",\"150-200\",\"150-200\",\"150-200\",\"200-250\",\"100-150\",\"150-200\",\"150-200\",\"100-150\",\"150-200\",\"150-200\",\"150-200\",\"150-200\",\"200-250\",\"150-200\",\"150-200\",\"150-200\"],\"xaxis\":\"x\",\"yaxis\":\"y\",\"type\":\"histogram\"}],                        {\"template\":{\"data\":{\"histogram2dcontour\":[{\"type\":\"histogram2dcontour\",\"colorbar\":{\"outlinewidth\":0,\"ticks\":\"\"},\"colorscale\":[[0.0,\"#0d0887\"],[0.1111111111111111,\"#46039f\"],[0.2222222222222222,\"#7201a8\"],[0.3333333333333333,\"#9c179e\"],[0.4444444444444444,\"#bd3786\"],[0.5555555555555556,\"#d8576b\"],[0.6666666666666666,\"#ed7953\"],[0.7777777777777778,\"#fb9f3a\"],[0.8888888888888888,\"#fdca26\"],[1.0,\"#f0f921\"]]}],\"choropleth\":[{\"type\":\"choropleth\",\"colorbar\":{\"outlinewidth\":0,\"ticks\":\"\"}}],\"histogram2d\":[{\"type\":\"histogram2d\",\"colorbar\":{\"outlinewidth\":0,\"ticks\":\"\"},\"colorscale\":[[0.0,\"#0d0887\"],[0.1111111111111111,\"#46039f\"],[0.2222222222222222,\"#7201a8\"],[0.3333333333333333,\"#9c179e\"],[0.4444444444444444,\"#bd3786\"],[0.5555555555555556,\"#d8576b\"],[0.6666666666666666,\"#ed7953\"],[0.7777777777777778,\"#fb9f3a\"],[0.8888888888888888,\"#fdca26\"],[1.0,\"#f0f921\"]]}],\"heatmap\":[{\"type\":\"heatmap\",\"colorbar\":{\"outlinewidth\":0,\"ticks\":\"\"},\"colorscale\":[[0.0,\"#0d0887\"],[0.1111111111111111,\"#46039f\"],[0.2222222222222222,\"#7201a8\"],[0.3333333333333333,\"#9c179e\"],[0.4444444444444444,\"#bd3786\"],[0.5555555555555556,\"#d8576b\"],[0.6666666666666666,\"#ed7953\"],[0.7777777777777778,\"#fb9f3a\"],[0.8888888888888888,\"#fdca26\"],[1.0,\"#f0f921\"]]}],\"heatmapgl\":[{\"type\":\"heatmapgl\",\"colorbar\":{\"outlinewidth\":0,\"ticks\":\"\"},\"colorscale\":[[0.0,\"#0d0887\"],[0.1111111111111111,\"#46039f\"],[0.2222222222222222,\"#7201a8\"],[0.3333333333333333,\"#9c179e\"],[0.4444444444444444,\"#bd3786\"],[0.5555555555555556,\"#d8576b\"],[0.6666666666666666,\"#ed7953\"],[0.7777777777777778,\"#fb9f3a\"],[0.8888888888888888,\"#fdca26\"],[1.0,\"#f0f921\"]]}],\"contourcarpet\":[{\"type\":\"contourcarpet\",\"colorbar\":{\"outlinewidth\":0,\"ticks\":\"\"}}],\"contour\":[{\"type\":\"contour\",\"colorbar\":{\"outlinewidth\":0,\"ticks\":\"\"},\"colorscale\":[[0.0,\"#0d0887\"],[0.1111111111111111,\"#46039f\"],[0.2222222222222222,\"#7201a8\"],[0.3333333333333333,\"#9c179e\"],[0.4444444444444444,\"#bd3786\"],[0.5555555555555556,\"#d8576b\"],[0.6666666666666666,\"#ed7953\"],[0.7777777777777778,\"#fb9f3a\"],[0.8888888888888888,\"#fdca26\"],[1.0,\"#f0f921\"]]}],\"surface\":[{\"type\":\"surface\",\"colorbar\":{\"outlinewidth\":0,\"ticks\":\"\"},\"colorscale\":[[0.0,\"#0d0887\"],[0.1111111111111111,\"#46039f\"],[0.2222222222222222,\"#7201a8\"],[0.3333333333333333,\"#9c179e\"],[0.4444444444444444,\"#bd3786\"],[0.5555555555555556,\"#d8576b\"],[0.6666666666666666,\"#ed7953\"],[0.7777777777777778,\"#fb9f3a\"],[0.8888888888888888,\"#fdca26\"],[1.0,\"#f0f921\"]]}],\"mesh3d\":[{\"type\":\"mesh3d\",\"colorbar\":{\"outlinewidth\":0,\"ticks\":\"\"}}],\"scatter\":[{\"fillpattern\":{\"fillmode\":\"overlay\",\"size\":10,\"solidity\":0.2},\"type\":\"scatter\"}],\"parcoords\":[{\"type\":\"parcoords\",\"line\":{\"colorbar\":{\"outlinewidth\":0,\"ticks\":\"\"}}}],\"scatterpolargl\":[{\"type\":\"scatterpolargl\",\"marker\":{\"colorbar\":{\"outlinewidth\":0,\"ticks\":\"\"}}}],\"bar\":[{\"error_x\":{\"color\":\"#2a3f5f\"},\"error_y\":{\"color\":\"#2a3f5f\"},\"marker\":{\"line\":{\"color\":\"#E5ECF6\",\"width\":0.5},\"pattern\":{\"fillmode\":\"overlay\",\"size\":10,\"solidity\":0.2}},\"type\":\"bar\"}],\"scattergeo\":[{\"type\":\"scattergeo\",\"marker\":{\"colorbar\":{\"outlinewidth\":0,\"ticks\":\"\"}}}],\"scatterpolar\":[{\"type\":\"scatterpolar\",\"marker\":{\"colorbar\":{\"outlinewidth\":0,\"ticks\":\"\"}}}],\"histogram\":[{\"marker\":{\"pattern\":{\"fillmode\":\"overlay\",\"size\":10,\"solidity\":0.2}},\"type\":\"histogram\"}],\"scattergl\":[{\"type\":\"scattergl\",\"marker\":{\"colorbar\":{\"outlinewidth\":0,\"ticks\":\"\"}}}],\"scatter3d\":[{\"type\":\"scatter3d\",\"line\":{\"colorbar\":{\"outlinewidth\":0,\"ticks\":\"\"}},\"marker\":{\"colorbar\":{\"outlinewidth\":0,\"ticks\":\"\"}}}],\"scattermapbox\":[{\"type\":\"scattermapbox\",\"marker\":{\"colorbar\":{\"outlinewidth\":0,\"ticks\":\"\"}}}],\"scatterternary\":[{\"type\":\"scatterternary\",\"marker\":{\"colorbar\":{\"outlinewidth\":0,\"ticks\":\"\"}}}],\"scattercarpet\":[{\"type\":\"scattercarpet\",\"marker\":{\"colorbar\":{\"outlinewidth\":0,\"ticks\":\"\"}}}],\"carpet\":[{\"aaxis\":{\"endlinecolor\":\"#2a3f5f\",\"gridcolor\":\"white\",\"linecolor\":\"white\",\"minorgridcolor\":\"white\",\"startlinecolor\":\"#2a3f5f\"},\"baxis\":{\"endlinecolor\":\"#2a3f5f\",\"gridcolor\":\"white\",\"linecolor\":\"white\",\"minorgridcolor\":\"white\",\"startlinecolor\":\"#2a3f5f\"},\"type\":\"carpet\"}],\"table\":[{\"cells\":{\"fill\":{\"color\":\"#EBF0F8\"},\"line\":{\"color\":\"white\"}},\"header\":{\"fill\":{\"color\":\"#C8D4E3\"},\"line\":{\"color\":\"white\"}},\"type\":\"table\"}],\"barpolar\":[{\"marker\":{\"line\":{\"color\":\"#E5ECF6\",\"width\":0.5},\"pattern\":{\"fillmode\":\"overlay\",\"size\":10,\"solidity\":0.2}},\"type\":\"barpolar\"}],\"pie\":[{\"automargin\":true,\"type\":\"pie\"}]},\"layout\":{\"autotypenumbers\":\"strict\",\"colorway\":[\"#636efa\",\"#EF553B\",\"#00cc96\",\"#ab63fa\",\"#FFA15A\",\"#19d3f3\",\"#FF6692\",\"#B6E880\",\"#FF97FF\",\"#FECB52\"],\"font\":{\"color\":\"#2a3f5f\"},\"hovermode\":\"closest\",\"hoverlabel\":{\"align\":\"left\"},\"paper_bgcolor\":\"white\",\"plot_bgcolor\":\"#E5ECF6\",\"polar\":{\"bgcolor\":\"#E5ECF6\",\"angularaxis\":{\"gridcolor\":\"white\",\"linecolor\":\"white\",\"ticks\":\"\"},\"radialaxis\":{\"gridcolor\":\"white\",\"linecolor\":\"white\",\"ticks\":\"\"}},\"ternary\":{\"bgcolor\":\"#E5ECF6\",\"aaxis\":{\"gridcolor\":\"white\",\"linecolor\":\"white\",\"ticks\":\"\"},\"baxis\":{\"gridcolor\":\"white\",\"linecolor\":\"white\",\"ticks\":\"\"},\"caxis\":{\"gridcolor\":\"white\",\"linecolor\":\"white\",\"ticks\":\"\"}},\"coloraxis\":{\"colorbar\":{\"outlinewidth\":0,\"ticks\":\"\"}},\"colorscale\":{\"sequential\":[[0.0,\"#0d0887\"],[0.1111111111111111,\"#46039f\"],[0.2222222222222222,\"#7201a8\"],[0.3333333333333333,\"#9c179e\"],[0.4444444444444444,\"#bd3786\"],[0.5555555555555556,\"#d8576b\"],[0.6666666666666666,\"#ed7953\"],[0.7777777777777778,\"#fb9f3a\"],[0.8888888888888888,\"#fdca26\"],[1.0,\"#f0f921\"]],\"sequentialminus\":[[0.0,\"#0d0887\"],[0.1111111111111111,\"#46039f\"],[0.2222222222222222,\"#7201a8\"],[0.3333333333333333,\"#9c179e\"],[0.4444444444444444,\"#bd3786\"],[0.5555555555555556,\"#d8576b\"],[0.6666666666666666,\"#ed7953\"],[0.7777777777777778,\"#fb9f3a\"],[0.8888888888888888,\"#fdca26\"],[1.0,\"#f0f921\"]],\"diverging\":[[0,\"#8e0152\"],[0.1,\"#c51b7d\"],[0.2,\"#de77ae\"],[0.3,\"#f1b6da\"],[0.4,\"#fde0ef\"],[0.5,\"#f7f7f7\"],[0.6,\"#e6f5d0\"],[0.7,\"#b8e186\"],[0.8,\"#7fbc41\"],[0.9,\"#4d9221\"],[1,\"#276419\"]]},\"xaxis\":{\"gridcolor\":\"white\",\"linecolor\":\"white\",\"ticks\":\"\",\"title\":{\"standoff\":15},\"zerolinecolor\":\"white\",\"automargin\":true,\"zerolinewidth\":2},\"yaxis\":{\"gridcolor\":\"white\",\"linecolor\":\"white\",\"ticks\":\"\",\"title\":{\"standoff\":15},\"zerolinecolor\":\"white\",\"automargin\":true,\"zerolinewidth\":2},\"scene\":{\"xaxis\":{\"backgroundcolor\":\"#E5ECF6\",\"gridcolor\":\"white\",\"linecolor\":\"white\",\"showbackground\":true,\"ticks\":\"\",\"zerolinecolor\":\"white\",\"gridwidth\":2},\"yaxis\":{\"backgroundcolor\":\"#E5ECF6\",\"gridcolor\":\"white\",\"linecolor\":\"white\",\"showbackground\":true,\"ticks\":\"\",\"zerolinecolor\":\"white\",\"gridwidth\":2},\"zaxis\":{\"backgroundcolor\":\"#E5ECF6\",\"gridcolor\":\"white\",\"linecolor\":\"white\",\"showbackground\":true,\"ticks\":\"\",\"zerolinecolor\":\"white\",\"gridwidth\":2}},\"shapedefaults\":{\"line\":{\"color\":\"#2a3f5f\"}},\"annotationdefaults\":{\"arrowcolor\":\"#2a3f5f\",\"arrowhead\":0,\"arrowwidth\":1},\"geo\":{\"bgcolor\":\"white\",\"landcolor\":\"#E5ECF6\",\"subunitcolor\":\"white\",\"showland\":true,\"showlakes\":true,\"lakecolor\":\"white\"},\"title\":{\"x\":0.05},\"mapbox\":{\"style\":\"light\"}}},\"xaxis\":{\"anchor\":\"y\",\"domain\":[0.0,1.0],\"title\":{\"text\":\"value\"}},\"yaxis\":{\"anchor\":\"x\",\"domain\":[0.0,1.0],\"title\":{\"text\":\"count\"}},\"legend\":{\"title\":{\"text\":\"variable\"},\"tracegroupgap\":0},\"margin\":{\"t\":60},\"barmode\":\"relative\"},                        {\"responsive\": true}                    ).then(function(){\n",
       "                            \n",
       "var gd = document.getElementById('0034dbb0-fccc-4ee0-abf2-a28af8e85661');\n",
       "var x = new MutationObserver(function (mutations, observer) {{\n",
       "        var display = window.getComputedStyle(gd).display;\n",
       "        if (!display || display === 'none') {{\n",
       "            console.log([gd, 'removed!']);\n",
       "            Plotly.purge(gd);\n",
       "            observer.disconnect();\n",
       "        }}\n",
       "}});\n",
       "\n",
       "// Listen for the removal of the full notebook cells\n",
       "var notebookContainer = gd.closest('#notebook-container');\n",
       "if (notebookContainer) {{\n",
       "    x.observe(notebookContainer, {childList: true});\n",
       "}}\n",
       "\n",
       "// Listen for the clearing of the current output cell\n",
       "var outputEl = gd.closest('.output');\n",
       "if (outputEl) {{\n",
       "    x.observe(outputEl, {childList: true});\n",
       "}}\n",
       "\n",
       "                        })                };                });            </script>        </div>"
      ]
     },
     "metadata": {},
     "output_type": "display_data"
    }
   ],
   "source": [
    "# fig = ff.create_distplot([topspeed_cate], group_labels=['Top Speed Range'])\n",
    "\n",
    "fig = px.histogram(topspeed_cate,text_auto=True)\n",
    "fig.show()"
   ]
  },
  {
   "cell_type": "code",
   "execution_count": 17,
   "id": "fb947be0",
   "metadata": {
    "execution": {
     "iopub.execute_input": "2023-03-19T10:04:41.461412Z",
     "iopub.status.busy": "2023-03-19T10:04:41.461051Z",
     "iopub.status.idle": "2023-03-19T10:04:41.468131Z",
     "shell.execute_reply": "2023-03-19T10:04:41.466929Z"
    },
    "papermill": {
     "duration": 0.017003,
     "end_time": "2023-03-19T10:04:41.470251",
     "exception": false,
     "start_time": "2023-03-19T10:04:41.453248",
     "status": "completed"
    },
    "tags": []
   },
   "outputs": [
    {
     "data": {
      "text/plain": [
       "pandas.core.series.Series"
      ]
     },
     "execution_count": 17,
     "metadata": {},
     "output_type": "execute_result"
    }
   ],
   "source": [
    "type(data['TopSpeed (km/h)'])"
   ]
  }
 ],
 "metadata": {
  "kernelspec": {
   "display_name": "Python 3",
   "language": "python",
   "name": "python3"
  },
  "language_info": {
   "codemirror_mode": {
    "name": "ipython",
    "version": 3
   },
   "file_extension": ".py",
   "mimetype": "text/x-python",
   "name": "python",
   "nbconvert_exporter": "python",
   "pygments_lexer": "ipython3",
   "version": "3.7.12"
  },
  "papermill": {
   "default_parameters": {},
   "duration": 15.295341,
   "end_time": "2023-03-19T10:04:42.398638",
   "environment_variables": {},
   "exception": null,
   "input_path": "__notebook__.ipynb",
   "output_path": "__notebook__.ipynb",
   "parameters": {},
   "start_time": "2023-03-19T10:04:27.103297",
   "version": "2.3.4"
  }
 },
 "nbformat": 4,
 "nbformat_minor": 5
}
