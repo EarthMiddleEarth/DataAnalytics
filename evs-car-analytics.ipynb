{
 "cells": [
  {
   "cell_type": "code",
   "execution_count": 1,
   "id": "0fd5257f",
   "metadata": {
    "_cell_guid": "b1076dfc-b9ad-4769-8c92-a6c4dae69d19",
    "_uuid": "8f2839f25d086af736a60e9eeb907d3b93b6e0e5",
    "execution": {
     "iopub.execute_input": "2023-02-09T16:50:23.052346Z",
     "iopub.status.busy": "2023-02-09T16:50:23.051870Z",
     "iopub.status.idle": "2023-02-09T16:50:23.075285Z",
     "shell.execute_reply": "2023-02-09T16:50:23.074175Z"
    },
    "papermill": {
     "duration": 0.034113,
     "end_time": "2023-02-09T16:50:23.078296",
     "exception": false,
     "start_time": "2023-02-09T16:50:23.044183",
     "status": "completed"
    },
    "tags": []
   },
   "outputs": [
    {
     "name": "stdout",
     "output_type": "stream",
     "text": [
      "/kaggle/input/evs-one-electric-vehicle-dataset/ElectricCarData_Clean.csv\n",
      "/kaggle/input/evs-one-electric-vehicle-dataset/ElectricCarData_Norm.csv\n"
     ]
    }
   ],
   "source": [
    "# This Python 3 environment comes with many helpful analytics libraries installed\n",
    "# It is defined by the kaggle/python Docker image: https://github.com/kaggle/docker-python\n",
    "# For example, here's several helpful packages to load\n",
    "\n",
    "import numpy as np # linear algebra\n",
    "import pandas as pd # data processing, CSV file I/O (e.g. pd.read_csv)\n",
    "\n",
    "# Input data files are available in the read-only \"../input/\" directory\n",
    "# For example, running this (by clicking run or pressing Shift+Enter) will list all files under the input directory\n",
    "\n",
    "import os\n",
    "for dirname, _, filenames in os.walk('/kaggle/input'):\n",
    "    for filename in filenames:\n",
    "        print(os.path.join(dirname, filename))\n",
    "\n",
    "# You can write up to 20GB to the current directory (/kaggle/working/) that gets preserved as output when you create a version using \"Save & Run All\" \n",
    "# You can also write temporary files to /kaggle/temp/, but they won't be saved outside of the current session"
   ]
  },
  {
   "cell_type": "code",
   "execution_count": 2,
   "id": "87c63a02",
   "metadata": {
    "execution": {
     "iopub.execute_input": "2023-02-09T16:50:23.088834Z",
     "iopub.status.busy": "2023-02-09T16:50:23.088059Z",
     "iopub.status.idle": "2023-02-09T16:50:25.557696Z",
     "shell.execute_reply": "2023-02-09T16:50:25.556204Z"
    },
    "papermill": {
     "duration": 2.478674,
     "end_time": "2023-02-09T16:50:25.561239",
     "exception": false,
     "start_time": "2023-02-09T16:50:23.082565",
     "status": "completed"
    },
    "tags": []
   },
   "outputs": [],
   "source": [
    "import seaborn as sns\n",
    "import plotly.express as px\n",
    "import matplotlib.pyplot as plt"
   ]
  },
  {
   "cell_type": "code",
   "execution_count": 3,
   "id": "07ca5675",
   "metadata": {
    "execution": {
     "iopub.execute_input": "2023-02-09T16:50:25.571589Z",
     "iopub.status.busy": "2023-02-09T16:50:25.571181Z",
     "iopub.status.idle": "2023-02-09T16:50:25.588923Z",
     "shell.execute_reply": "2023-02-09T16:50:25.587552Z"
    },
    "papermill": {
     "duration": 0.026515,
     "end_time": "2023-02-09T16:50:25.592016",
     "exception": false,
     "start_time": "2023-02-09T16:50:25.565501",
     "status": "completed"
    },
    "tags": []
   },
   "outputs": [],
   "source": [
    "data=pd.read_csv(\"/kaggle/input/evs-one-electric-vehicle-dataset/ElectricCarData_Norm.csv\",encoding='utf-8')"
   ]
  },
  {
   "cell_type": "markdown",
   "id": "ca3217cc",
   "metadata": {
    "papermill": {
     "duration": 0.003548,
     "end_time": "2023-02-09T16:50:25.600017",
     "exception": false,
     "start_time": "2023-02-09T16:50:25.596469",
     "status": "completed"
    },
    "tags": []
   },
   "source": [
    "***EDA***"
   ]
  },
  {
   "cell_type": "code",
   "execution_count": 4,
   "id": "f1e9c90c",
   "metadata": {
    "execution": {
     "iopub.execute_input": "2023-02-09T16:50:25.609408Z",
     "iopub.status.busy": "2023-02-09T16:50:25.608918Z",
     "iopub.status.idle": "2023-02-09T16:50:25.642004Z",
     "shell.execute_reply": "2023-02-09T16:50:25.640645Z"
    },
    "papermill": {
     "duration": 0.041113,
     "end_time": "2023-02-09T16:50:25.644838",
     "exception": false,
     "start_time": "2023-02-09T16:50:25.603725",
     "status": "completed"
    },
    "tags": []
   },
   "outputs": [
    {
     "name": "stdout",
     "output_type": "stream",
     "text": [
      "<class 'pandas.core.frame.DataFrame'>\n",
      "RangeIndex: 103 entries, 0 to 102\n",
      "Data columns (total 14 columns):\n",
      " #   Column       Non-Null Count  Dtype \n",
      "---  ------       --------------  ----- \n",
      " 0   Brand        103 non-null    object\n",
      " 1   Model        103 non-null    object\n",
      " 2   Accel        103 non-null    object\n",
      " 3   TopSpeed     103 non-null    object\n",
      " 4   Range        103 non-null    object\n",
      " 5   Efficiency   103 non-null    object\n",
      " 6   FastCharge   103 non-null    object\n",
      " 7   RapidCharge  103 non-null    object\n",
      " 8   PowerTrain   103 non-null    object\n",
      " 9   PlugType     103 non-null    object\n",
      " 10  BodyStyle    103 non-null    object\n",
      " 11  Segment      103 non-null    object\n",
      " 12  Seats        103 non-null    int64 \n",
      " 13  PriceEuro    103 non-null    int64 \n",
      "dtypes: int64(2), object(12)\n",
      "memory usage: 11.4+ KB\n"
     ]
    }
   ],
   "source": [
    "data.info()"
   ]
  },
  {
   "cell_type": "code",
   "execution_count": 5,
   "id": "38e1e4d7",
   "metadata": {
    "execution": {
     "iopub.execute_input": "2023-02-09T16:50:25.654500Z",
     "iopub.status.busy": "2023-02-09T16:50:25.654060Z",
     "iopub.status.idle": "2023-02-09T16:50:25.677624Z",
     "shell.execute_reply": "2023-02-09T16:50:25.676693Z"
    },
    "papermill": {
     "duration": 0.031149,
     "end_time": "2023-02-09T16:50:25.680140",
     "exception": false,
     "start_time": "2023-02-09T16:50:25.648991",
     "status": "completed"
    },
    "tags": []
   },
   "outputs": [
    {
     "data": {
      "text/html": [
       "<div>\n",
       "<style scoped>\n",
       "    .dataframe tbody tr th:only-of-type {\n",
       "        vertical-align: middle;\n",
       "    }\n",
       "\n",
       "    .dataframe tbody tr th {\n",
       "        vertical-align: top;\n",
       "    }\n",
       "\n",
       "    .dataframe thead th {\n",
       "        text-align: right;\n",
       "    }\n",
       "</style>\n",
       "<table border=\"1\" class=\"dataframe\">\n",
       "  <thead>\n",
       "    <tr style=\"text-align: right;\">\n",
       "      <th></th>\n",
       "      <th>Brand</th>\n",
       "      <th>Model</th>\n",
       "      <th>Accel</th>\n",
       "      <th>TopSpeed</th>\n",
       "      <th>Range</th>\n",
       "      <th>Efficiency</th>\n",
       "      <th>FastCharge</th>\n",
       "      <th>RapidCharge</th>\n",
       "      <th>PowerTrain</th>\n",
       "      <th>PlugType</th>\n",
       "      <th>BodyStyle</th>\n",
       "      <th>Segment</th>\n",
       "      <th>Seats</th>\n",
       "      <th>PriceEuro</th>\n",
       "    </tr>\n",
       "  </thead>\n",
       "  <tbody>\n",
       "    <tr>\n",
       "      <th>0</th>\n",
       "      <td>Tesla</td>\n",
       "      <td>Model 3 Long Range Dual Motor</td>\n",
       "      <td>4.6 sec</td>\n",
       "      <td>233 km/h</td>\n",
       "      <td>450 km</td>\n",
       "      <td>161 Wh/km</td>\n",
       "      <td>940 km/h</td>\n",
       "      <td>Rapid charging possible</td>\n",
       "      <td>All Wheel Drive</td>\n",
       "      <td>Type 2 CCS</td>\n",
       "      <td>Sedan</td>\n",
       "      <td>D</td>\n",
       "      <td>5</td>\n",
       "      <td>55480</td>\n",
       "    </tr>\n",
       "    <tr>\n",
       "      <th>1</th>\n",
       "      <td>Volkswagen</td>\n",
       "      <td>ID.3 Pure</td>\n",
       "      <td>10.0 sec</td>\n",
       "      <td>160 km/h</td>\n",
       "      <td>270 km</td>\n",
       "      <td>167 Wh/km</td>\n",
       "      <td>250 km/h</td>\n",
       "      <td>Rapid charging possible</td>\n",
       "      <td>Rear Wheel Drive</td>\n",
       "      <td>Type 2 CCS</td>\n",
       "      <td>Hatchback</td>\n",
       "      <td>C</td>\n",
       "      <td>5</td>\n",
       "      <td>30000</td>\n",
       "    </tr>\n",
       "    <tr>\n",
       "      <th>2</th>\n",
       "      <td>Polestar</td>\n",
       "      <td>2</td>\n",
       "      <td>4.7 sec</td>\n",
       "      <td>210 km/h</td>\n",
       "      <td>400 km</td>\n",
       "      <td>181 Wh/km</td>\n",
       "      <td>620 km/h</td>\n",
       "      <td>Rapid charging possible</td>\n",
       "      <td>All Wheel Drive</td>\n",
       "      <td>Type 2 CCS</td>\n",
       "      <td>Liftback</td>\n",
       "      <td>D</td>\n",
       "      <td>5</td>\n",
       "      <td>56440</td>\n",
       "    </tr>\n",
       "    <tr>\n",
       "      <th>3</th>\n",
       "      <td>BMW</td>\n",
       "      <td>iX3</td>\n",
       "      <td>6.8 sec</td>\n",
       "      <td>180 km/h</td>\n",
       "      <td>360 km</td>\n",
       "      <td>206 Wh/km</td>\n",
       "      <td>560 km/h</td>\n",
       "      <td>Rapid charging possible</td>\n",
       "      <td>Rear Wheel Drive</td>\n",
       "      <td>Type 2 CCS</td>\n",
       "      <td>SUV</td>\n",
       "      <td>D</td>\n",
       "      <td>5</td>\n",
       "      <td>68040</td>\n",
       "    </tr>\n",
       "    <tr>\n",
       "      <th>4</th>\n",
       "      <td>Honda</td>\n",
       "      <td>e</td>\n",
       "      <td>9.5 sec</td>\n",
       "      <td>145 km/h</td>\n",
       "      <td>170 km</td>\n",
       "      <td>168 Wh/km</td>\n",
       "      <td>190 km/h</td>\n",
       "      <td>Rapid charging possible</td>\n",
       "      <td>Rear Wheel Drive</td>\n",
       "      <td>Type 2 CCS</td>\n",
       "      <td>Hatchback</td>\n",
       "      <td>B</td>\n",
       "      <td>4</td>\n",
       "      <td>32997</td>\n",
       "    </tr>\n",
       "  </tbody>\n",
       "</table>\n",
       "</div>"
      ],
      "text/plain": [
       "         Brand                          Model     Accel  TopSpeed   Range  \\\n",
       "0       Tesla   Model 3 Long Range Dual Motor   4.6 sec  233 km/h  450 km   \n",
       "1  Volkswagen                       ID.3 Pure  10.0 sec  160 km/h  270 km   \n",
       "2    Polestar                               2   4.7 sec  210 km/h  400 km   \n",
       "3         BMW                            iX3    6.8 sec  180 km/h  360 km   \n",
       "4       Honda                              e    9.5 sec  145 km/h  170 km   \n",
       "\n",
       "  Efficiency FastCharge              RapidCharge        PowerTrain  \\\n",
       "0  161 Wh/km   940 km/h  Rapid charging possible   All Wheel Drive   \n",
       "1  167 Wh/km   250 km/h  Rapid charging possible  Rear Wheel Drive   \n",
       "2  181 Wh/km   620 km/h  Rapid charging possible   All Wheel Drive   \n",
       "3  206 Wh/km   560 km/h  Rapid charging possible  Rear Wheel Drive   \n",
       "4  168 Wh/km   190 km/h  Rapid charging possible  Rear Wheel Drive   \n",
       "\n",
       "     PlugType  BodyStyle Segment  Seats  PriceEuro  \n",
       "0  Type 2 CCS      Sedan       D      5      55480  \n",
       "1  Type 2 CCS  Hatchback       C      5      30000  \n",
       "2  Type 2 CCS   Liftback       D      5      56440  \n",
       "3  Type 2 CCS        SUV       D      5      68040  \n",
       "4  Type 2 CCS  Hatchback       B      4      32997  "
      ]
     },
     "execution_count": 5,
     "metadata": {},
     "output_type": "execute_result"
    }
   ],
   "source": [
    "data.head()"
   ]
  },
  {
   "cell_type": "code",
   "execution_count": 6,
   "id": "2e0eee77",
   "metadata": {
    "execution": {
     "iopub.execute_input": "2023-02-09T16:50:25.691144Z",
     "iopub.status.busy": "2023-02-09T16:50:25.690469Z",
     "iopub.status.idle": "2023-02-09T16:50:25.700453Z",
     "shell.execute_reply": "2023-02-09T16:50:25.699063Z"
    },
    "papermill": {
     "duration": 0.01868,
     "end_time": "2023-02-09T16:50:25.703291",
     "exception": false,
     "start_time": "2023-02-09T16:50:25.684611",
     "status": "completed"
    },
    "tags": []
   },
   "outputs": [
    {
     "data": {
      "text/plain": [
       "Brand          0\n",
       "Model          0\n",
       "Accel          0\n",
       "TopSpeed       0\n",
       "Range          0\n",
       "Efficiency     0\n",
       "FastCharge     0\n",
       "RapidCharge    0\n",
       "PowerTrain     0\n",
       "PlugType       0\n",
       "BodyStyle      0\n",
       "Segment        0\n",
       "Seats          0\n",
       "PriceEuro      0\n",
       "dtype: int64"
      ]
     },
     "execution_count": 6,
     "metadata": {},
     "output_type": "execute_result"
    }
   ],
   "source": [
    "data.isnull().sum()"
   ]
  },
  {
   "cell_type": "code",
   "execution_count": 7,
   "id": "9127ab4f",
   "metadata": {
    "execution": {
     "iopub.execute_input": "2023-02-09T16:50:25.713808Z",
     "iopub.status.busy": "2023-02-09T16:50:25.713337Z",
     "iopub.status.idle": "2023-02-09T16:50:25.721161Z",
     "shell.execute_reply": "2023-02-09T16:50:25.719832Z"
    },
    "papermill": {
     "duration": 0.016013,
     "end_time": "2023-02-09T16:50:25.723744",
     "exception": false,
     "start_time": "2023-02-09T16:50:25.707731",
     "status": "completed"
    },
    "tags": []
   },
   "outputs": [],
   "source": [
    "# Handling Top speed type\n",
    "data['TopSpeed (km/h)'] = data['TopSpeed'].apply(lambda x: x.split()[0]).astype('float64')"
   ]
  },
  {
   "cell_type": "code",
   "execution_count": 8,
   "id": "ac853114",
   "metadata": {
    "execution": {
     "iopub.execute_input": "2023-02-09T16:50:25.734501Z",
     "iopub.status.busy": "2023-02-09T16:50:25.733683Z",
     "iopub.status.idle": "2023-02-09T16:50:25.743246Z",
     "shell.execute_reply": "2023-02-09T16:50:25.741685Z"
    },
    "papermill": {
     "duration": 0.017784,
     "end_time": "2023-02-09T16:50:25.745871",
     "exception": false,
     "start_time": "2023-02-09T16:50:25.728087",
     "status": "completed"
    },
    "tags": []
   },
   "outputs": [],
   "source": [
    "top10FastestEV=data.sort_values(['TopSpeed'], ascending=False).reset_index().iloc[0:10]"
   ]
  },
  {
   "cell_type": "code",
   "execution_count": 9,
   "id": "4eb72d3e",
   "metadata": {
    "execution": {
     "iopub.execute_input": "2023-02-09T16:50:25.757090Z",
     "iopub.status.busy": "2023-02-09T16:50:25.756111Z",
     "iopub.status.idle": "2023-02-09T16:50:25.763331Z",
     "shell.execute_reply": "2023-02-09T16:50:25.762209Z"
    },
    "papermill": {
     "duration": 0.01585,
     "end_time": "2023-02-09T16:50:25.766189",
     "exception": false,
     "start_time": "2023-02-09T16:50:25.750339",
     "status": "completed"
    },
    "tags": []
   },
   "outputs": [],
   "source": [
    "top10FastestEV['CarName'] = top10FastestEV['Brand']+top10FastestEV['Model']"
   ]
  },
  {
   "cell_type": "code",
   "execution_count": 10,
   "id": "85f84e86",
   "metadata": {
    "execution": {
     "iopub.execute_input": "2023-02-09T16:50:25.776955Z",
     "iopub.status.busy": "2023-02-09T16:50:25.776531Z",
     "iopub.status.idle": "2023-02-09T16:50:25.781852Z",
     "shell.execute_reply": "2023-02-09T16:50:25.780757Z"
    },
    "papermill": {
     "duration": 0.013664,
     "end_time": "2023-02-09T16:50:25.784297",
     "exception": false,
     "start_time": "2023-02-09T16:50:25.770633",
     "status": "completed"
    },
    "tags": []
   },
   "outputs": [],
   "source": [
    "# f=plt.figure(figsize=(12,4))\n",
    "# ax=f.add_subplot(111)\n",
    "# sns.barplot(x=top10FastestEV['Brand']+top10FastestEV['Model'], y=top10FastestEV['TopSpeed'])\n",
    "# ax.set_xticklabels(ax.get_xticklabels,rotation='45')\n"
   ]
  },
  {
   "cell_type": "code",
   "execution_count": 11,
   "id": "46bcfafa",
   "metadata": {
    "execution": {
     "iopub.execute_input": "2023-02-09T16:50:25.794883Z",
     "iopub.status.busy": "2023-02-09T16:50:25.794461Z",
     "iopub.status.idle": "2023-02-09T16:50:27.145863Z",
     "shell.execute_reply": "2023-02-09T16:50:27.144570Z"
    },
    "papermill": {
     "duration": 1.359764,
     "end_time": "2023-02-09T16:50:27.148563",
     "exception": false,
     "start_time": "2023-02-09T16:50:25.788799",
     "status": "completed"
    },
    "tags": []
   },
   "outputs": [
    {
     "data": {
      "text/html": [
       "        <script type=\"text/javascript\">\n",
       "        window.PlotlyConfig = {MathJaxConfig: 'local'};\n",
       "        if (window.MathJax && window.MathJax.Hub && window.MathJax.Hub.Config) {window.MathJax.Hub.Config({SVG: {font: \"STIX-Web\"}});}\n",
       "        if (typeof require !== 'undefined') {\n",
       "        require.undef(\"plotly\");\n",
       "        requirejs.config({\n",
       "            paths: {\n",
       "                'plotly': ['https://cdn.plot.ly/plotly-2.18.0.min']\n",
       "            }\n",
       "        });\n",
       "        require(['plotly'], function(Plotly) {\n",
       "            window._Plotly = Plotly;\n",
       "        });\n",
       "        }\n",
       "        </script>\n",
       "        "
      ]
     },
     "metadata": {},
     "output_type": "display_data"
    },
    {
     "data": {
      "text/html": [
       "<div>                            <div id=\"9ef97b63-c93d-480f-8866-8051dfaf5835\" class=\"plotly-graph-div\" style=\"height:525px; width:100%;\"></div>            <script type=\"text/javascript\">                require([\"plotly\"], function(Plotly) {                    window.PLOTLYENV=window.PLOTLYENV || {};                                    if (document.getElementById(\"9ef97b63-c93d-480f-8866-8051dfaf5835\")) {                    Plotly.newPlot(                        \"9ef97b63-c93d-480f-8866-8051dfaf5835\",                        [{\"alignmentgroup\":\"True\",\"customdata\":[[\"2.1 sec\",\"All Wheel Drive\"]],\"hovertemplate\":\"TopSpeed=410 km/h<br>CarName=%{x}<br>TopSpeed (km/h)=%{y}<br>Accel=%{customdata[0]}<br>PowerTrain=%{customdata[1]}<extra></extra>\",\"legendgroup\":\"410 km/h\",\"marker\":{\"color\":\"#636efa\",\"pattern\":{\"shape\":\"\"}},\"name\":\"410 km/h\",\"offsetgroup\":\"410 km/h\",\"orientation\":\"v\",\"showlegend\":true,\"textposition\":\"auto\",\"texttemplate\":\"%{y:.2s}\",\"x\":[\"Tesla Roadster \"],\"xaxis\":\"x\",\"y\":[410.0],\"yaxis\":\"y\",\"type\":\"bar\"},{\"alignmentgroup\":\"True\",\"customdata\":[[\"2.5 sec\",\"All Wheel Drive\"],[\"3.4 sec\",\"All Wheel Drive\"]],\"hovertemplate\":\"TopSpeed=261 km/h<br>CarName=%{x}<br>TopSpeed (km/h)=%{y}<br>Accel=%{customdata[0]}<br>PowerTrain=%{customdata[1]}<extra></extra>\",\"legendgroup\":\"261 km/h\",\"marker\":{\"color\":\"#EF553B\",\"pattern\":{\"shape\":\"\"}},\"name\":\"261 km/h\",\"offsetgroup\":\"261 km/h\",\"orientation\":\"v\",\"showlegend\":true,\"textposition\":\"auto\",\"texttemplate\":\"%{y:.2s}\",\"x\":[\"Tesla Model S Performance\",\"Tesla Model 3 Long Range Performance\"],\"xaxis\":\"x\",\"y\":[261.0,261.0],\"yaxis\":\"y\",\"type\":\"bar\"},{\"alignmentgroup\":\"True\",\"customdata\":[[\"2.8 sec\",\"All Wheel Drive\"],[\"3.2 sec\",\"All Wheel Drive\"]],\"hovertemplate\":\"TopSpeed=260 km/h<br>CarName=%{x}<br>TopSpeed (km/h)=%{y}<br>Accel=%{customdata[0]}<br>PowerTrain=%{customdata[1]}<extra></extra>\",\"legendgroup\":\"260 km/h\",\"marker\":{\"color\":\"#00cc96\",\"pattern\":{\"shape\":\"\"}},\"name\":\"260 km/h\",\"offsetgroup\":\"260 km/h\",\"orientation\":\"v\",\"showlegend\":true,\"textposition\":\"auto\",\"texttemplate\":\"%{y:.2s}\",\"x\":[\"Porsche Taycan Turbo S\",\"Porsche Taycan Turbo\"],\"xaxis\":\"x\",\"y\":[260.0,260.0],\"yaxis\":\"y\",\"type\":\"bar\"},{\"alignmentgroup\":\"True\",\"customdata\":[[\"2.8 sec\",\"All Wheel Drive\"],[\"3.5 sec\",\"All Wheel Drive\"],[\"2.8 sec\",\"All Wheel Drive\"],[\"4.0 sec\",\"All Wheel Drive\"],[\"4.6 sec\",\"All Wheel Drive\"]],\"hovertemplate\":\"TopSpeed=250 km/h<br>CarName=%{x}<br>TopSpeed (km/h)=%{y}<br>Accel=%{customdata[0]}<br>PowerTrain=%{customdata[1]}<extra></extra>\",\"legendgroup\":\"250 km/h\",\"marker\":{\"color\":\"#ab63fa\",\"pattern\":{\"shape\":\"\"}},\"name\":\"250 km/h\",\"offsetgroup\":\"250 km/h\",\"orientation\":\"v\",\"showlegend\":true,\"textposition\":\"auto\",\"texttemplate\":\"%{y:.2s}\",\"x\":[\"Tesla Model X Performance\",\"Porsche Taycan Cross Turismo \",\"Lucid Air \",\"Porsche Taycan 4S Plus\",\"Tesla Model X Long Range\"],\"xaxis\":\"x\",\"y\":[250.0,250.0,250.0,250.0,250.0],\"yaxis\":\"y\",\"type\":\"bar\"}],                        {\"template\":{\"data\":{\"histogram2dcontour\":[{\"type\":\"histogram2dcontour\",\"colorbar\":{\"outlinewidth\":0,\"ticks\":\"\"},\"colorscale\":[[0.0,\"#0d0887\"],[0.1111111111111111,\"#46039f\"],[0.2222222222222222,\"#7201a8\"],[0.3333333333333333,\"#9c179e\"],[0.4444444444444444,\"#bd3786\"],[0.5555555555555556,\"#d8576b\"],[0.6666666666666666,\"#ed7953\"],[0.7777777777777778,\"#fb9f3a\"],[0.8888888888888888,\"#fdca26\"],[1.0,\"#f0f921\"]]}],\"choropleth\":[{\"type\":\"choropleth\",\"colorbar\":{\"outlinewidth\":0,\"ticks\":\"\"}}],\"histogram2d\":[{\"type\":\"histogram2d\",\"colorbar\":{\"outlinewidth\":0,\"ticks\":\"\"},\"colorscale\":[[0.0,\"#0d0887\"],[0.1111111111111111,\"#46039f\"],[0.2222222222222222,\"#7201a8\"],[0.3333333333333333,\"#9c179e\"],[0.4444444444444444,\"#bd3786\"],[0.5555555555555556,\"#d8576b\"],[0.6666666666666666,\"#ed7953\"],[0.7777777777777778,\"#fb9f3a\"],[0.8888888888888888,\"#fdca26\"],[1.0,\"#f0f921\"]]}],\"heatmap\":[{\"type\":\"heatmap\",\"colorbar\":{\"outlinewidth\":0,\"ticks\":\"\"},\"colorscale\":[[0.0,\"#0d0887\"],[0.1111111111111111,\"#46039f\"],[0.2222222222222222,\"#7201a8\"],[0.3333333333333333,\"#9c179e\"],[0.4444444444444444,\"#bd3786\"],[0.5555555555555556,\"#d8576b\"],[0.6666666666666666,\"#ed7953\"],[0.7777777777777778,\"#fb9f3a\"],[0.8888888888888888,\"#fdca26\"],[1.0,\"#f0f921\"]]}],\"heatmapgl\":[{\"type\":\"heatmapgl\",\"colorbar\":{\"outlinewidth\":0,\"ticks\":\"\"},\"colorscale\":[[0.0,\"#0d0887\"],[0.1111111111111111,\"#46039f\"],[0.2222222222222222,\"#7201a8\"],[0.3333333333333333,\"#9c179e\"],[0.4444444444444444,\"#bd3786\"],[0.5555555555555556,\"#d8576b\"],[0.6666666666666666,\"#ed7953\"],[0.7777777777777778,\"#fb9f3a\"],[0.8888888888888888,\"#fdca26\"],[1.0,\"#f0f921\"]]}],\"contourcarpet\":[{\"type\":\"contourcarpet\",\"colorbar\":{\"outlinewidth\":0,\"ticks\":\"\"}}],\"contour\":[{\"type\":\"contour\",\"colorbar\":{\"outlinewidth\":0,\"ticks\":\"\"},\"colorscale\":[[0.0,\"#0d0887\"],[0.1111111111111111,\"#46039f\"],[0.2222222222222222,\"#7201a8\"],[0.3333333333333333,\"#9c179e\"],[0.4444444444444444,\"#bd3786\"],[0.5555555555555556,\"#d8576b\"],[0.6666666666666666,\"#ed7953\"],[0.7777777777777778,\"#fb9f3a\"],[0.8888888888888888,\"#fdca26\"],[1.0,\"#f0f921\"]]}],\"surface\":[{\"type\":\"surface\",\"colorbar\":{\"outlinewidth\":0,\"ticks\":\"\"},\"colorscale\":[[0.0,\"#0d0887\"],[0.1111111111111111,\"#46039f\"],[0.2222222222222222,\"#7201a8\"],[0.3333333333333333,\"#9c179e\"],[0.4444444444444444,\"#bd3786\"],[0.5555555555555556,\"#d8576b\"],[0.6666666666666666,\"#ed7953\"],[0.7777777777777778,\"#fb9f3a\"],[0.8888888888888888,\"#fdca26\"],[1.0,\"#f0f921\"]]}],\"mesh3d\":[{\"type\":\"mesh3d\",\"colorbar\":{\"outlinewidth\":0,\"ticks\":\"\"}}],\"scatter\":[{\"fillpattern\":{\"fillmode\":\"overlay\",\"size\":10,\"solidity\":0.2},\"type\":\"scatter\"}],\"parcoords\":[{\"type\":\"parcoords\",\"line\":{\"colorbar\":{\"outlinewidth\":0,\"ticks\":\"\"}}}],\"scatterpolargl\":[{\"type\":\"scatterpolargl\",\"marker\":{\"colorbar\":{\"outlinewidth\":0,\"ticks\":\"\"}}}],\"bar\":[{\"error_x\":{\"color\":\"#2a3f5f\"},\"error_y\":{\"color\":\"#2a3f5f\"},\"marker\":{\"line\":{\"color\":\"#E5ECF6\",\"width\":0.5},\"pattern\":{\"fillmode\":\"overlay\",\"size\":10,\"solidity\":0.2}},\"type\":\"bar\"}],\"scattergeo\":[{\"type\":\"scattergeo\",\"marker\":{\"colorbar\":{\"outlinewidth\":0,\"ticks\":\"\"}}}],\"scatterpolar\":[{\"type\":\"scatterpolar\",\"marker\":{\"colorbar\":{\"outlinewidth\":0,\"ticks\":\"\"}}}],\"histogram\":[{\"marker\":{\"pattern\":{\"fillmode\":\"overlay\",\"size\":10,\"solidity\":0.2}},\"type\":\"histogram\"}],\"scattergl\":[{\"type\":\"scattergl\",\"marker\":{\"colorbar\":{\"outlinewidth\":0,\"ticks\":\"\"}}}],\"scatter3d\":[{\"type\":\"scatter3d\",\"line\":{\"colorbar\":{\"outlinewidth\":0,\"ticks\":\"\"}},\"marker\":{\"colorbar\":{\"outlinewidth\":0,\"ticks\":\"\"}}}],\"scattermapbox\":[{\"type\":\"scattermapbox\",\"marker\":{\"colorbar\":{\"outlinewidth\":0,\"ticks\":\"\"}}}],\"scatterternary\":[{\"type\":\"scatterternary\",\"marker\":{\"colorbar\":{\"outlinewidth\":0,\"ticks\":\"\"}}}],\"scattercarpet\":[{\"type\":\"scattercarpet\",\"marker\":{\"colorbar\":{\"outlinewidth\":0,\"ticks\":\"\"}}}],\"carpet\":[{\"aaxis\":{\"endlinecolor\":\"#2a3f5f\",\"gridcolor\":\"white\",\"linecolor\":\"white\",\"minorgridcolor\":\"white\",\"startlinecolor\":\"#2a3f5f\"},\"baxis\":{\"endlinecolor\":\"#2a3f5f\",\"gridcolor\":\"white\",\"linecolor\":\"white\",\"minorgridcolor\":\"white\",\"startlinecolor\":\"#2a3f5f\"},\"type\":\"carpet\"}],\"table\":[{\"cells\":{\"fill\":{\"color\":\"#EBF0F8\"},\"line\":{\"color\":\"white\"}},\"header\":{\"fill\":{\"color\":\"#C8D4E3\"},\"line\":{\"color\":\"white\"}},\"type\":\"table\"}],\"barpolar\":[{\"marker\":{\"line\":{\"color\":\"#E5ECF6\",\"width\":0.5},\"pattern\":{\"fillmode\":\"overlay\",\"size\":10,\"solidity\":0.2}},\"type\":\"barpolar\"}],\"pie\":[{\"automargin\":true,\"type\":\"pie\"}]},\"layout\":{\"autotypenumbers\":\"strict\",\"colorway\":[\"#636efa\",\"#EF553B\",\"#00cc96\",\"#ab63fa\",\"#FFA15A\",\"#19d3f3\",\"#FF6692\",\"#B6E880\",\"#FF97FF\",\"#FECB52\"],\"font\":{\"color\":\"#2a3f5f\"},\"hovermode\":\"closest\",\"hoverlabel\":{\"align\":\"left\"},\"paper_bgcolor\":\"white\",\"plot_bgcolor\":\"#E5ECF6\",\"polar\":{\"bgcolor\":\"#E5ECF6\",\"angularaxis\":{\"gridcolor\":\"white\",\"linecolor\":\"white\",\"ticks\":\"\"},\"radialaxis\":{\"gridcolor\":\"white\",\"linecolor\":\"white\",\"ticks\":\"\"}},\"ternary\":{\"bgcolor\":\"#E5ECF6\",\"aaxis\":{\"gridcolor\":\"white\",\"linecolor\":\"white\",\"ticks\":\"\"},\"baxis\":{\"gridcolor\":\"white\",\"linecolor\":\"white\",\"ticks\":\"\"},\"caxis\":{\"gridcolor\":\"white\",\"linecolor\":\"white\",\"ticks\":\"\"}},\"coloraxis\":{\"colorbar\":{\"outlinewidth\":0,\"ticks\":\"\"}},\"colorscale\":{\"sequential\":[[0.0,\"#0d0887\"],[0.1111111111111111,\"#46039f\"],[0.2222222222222222,\"#7201a8\"],[0.3333333333333333,\"#9c179e\"],[0.4444444444444444,\"#bd3786\"],[0.5555555555555556,\"#d8576b\"],[0.6666666666666666,\"#ed7953\"],[0.7777777777777778,\"#fb9f3a\"],[0.8888888888888888,\"#fdca26\"],[1.0,\"#f0f921\"]],\"sequentialminus\":[[0.0,\"#0d0887\"],[0.1111111111111111,\"#46039f\"],[0.2222222222222222,\"#7201a8\"],[0.3333333333333333,\"#9c179e\"],[0.4444444444444444,\"#bd3786\"],[0.5555555555555556,\"#d8576b\"],[0.6666666666666666,\"#ed7953\"],[0.7777777777777778,\"#fb9f3a\"],[0.8888888888888888,\"#fdca26\"],[1.0,\"#f0f921\"]],\"diverging\":[[0,\"#8e0152\"],[0.1,\"#c51b7d\"],[0.2,\"#de77ae\"],[0.3,\"#f1b6da\"],[0.4,\"#fde0ef\"],[0.5,\"#f7f7f7\"],[0.6,\"#e6f5d0\"],[0.7,\"#b8e186\"],[0.8,\"#7fbc41\"],[0.9,\"#4d9221\"],[1,\"#276419\"]]},\"xaxis\":{\"gridcolor\":\"white\",\"linecolor\":\"white\",\"ticks\":\"\",\"title\":{\"standoff\":15},\"zerolinecolor\":\"white\",\"automargin\":true,\"zerolinewidth\":2},\"yaxis\":{\"gridcolor\":\"white\",\"linecolor\":\"white\",\"ticks\":\"\",\"title\":{\"standoff\":15},\"zerolinecolor\":\"white\",\"automargin\":true,\"zerolinewidth\":2},\"scene\":{\"xaxis\":{\"backgroundcolor\":\"#E5ECF6\",\"gridcolor\":\"white\",\"linecolor\":\"white\",\"showbackground\":true,\"ticks\":\"\",\"zerolinecolor\":\"white\",\"gridwidth\":2},\"yaxis\":{\"backgroundcolor\":\"#E5ECF6\",\"gridcolor\":\"white\",\"linecolor\":\"white\",\"showbackground\":true,\"ticks\":\"\",\"zerolinecolor\":\"white\",\"gridwidth\":2},\"zaxis\":{\"backgroundcolor\":\"#E5ECF6\",\"gridcolor\":\"white\",\"linecolor\":\"white\",\"showbackground\":true,\"ticks\":\"\",\"zerolinecolor\":\"white\",\"gridwidth\":2}},\"shapedefaults\":{\"line\":{\"color\":\"#2a3f5f\"}},\"annotationdefaults\":{\"arrowcolor\":\"#2a3f5f\",\"arrowhead\":0,\"arrowwidth\":1},\"geo\":{\"bgcolor\":\"white\",\"landcolor\":\"#E5ECF6\",\"subunitcolor\":\"white\",\"showland\":true,\"showlakes\":true,\"lakecolor\":\"white\"},\"title\":{\"x\":0.05},\"mapbox\":{\"style\":\"light\"}}},\"xaxis\":{\"anchor\":\"y\",\"domain\":[0.0,1.0],\"title\":{\"text\":\"CarName\"}},\"yaxis\":{\"anchor\":\"x\",\"domain\":[0.0,1.0],\"title\":{\"text\":\"TopSpeed (km/h)\"}},\"legend\":{\"title\":{\"text\":\"TopSpeed\"},\"tracegroupgap\":0},\"title\":{\"text\":\"Top 10 Fastest EVs\"},\"barmode\":\"relative\"},                        {\"responsive\": true}                    ).then(function(){\n",
       "                            \n",
       "var gd = document.getElementById('9ef97b63-c93d-480f-8866-8051dfaf5835');\n",
       "var x = new MutationObserver(function (mutations, observer) {{\n",
       "        var display = window.getComputedStyle(gd).display;\n",
       "        if (!display || display === 'none') {{\n",
       "            console.log([gd, 'removed!']);\n",
       "            Plotly.purge(gd);\n",
       "            observer.disconnect();\n",
       "        }}\n",
       "}});\n",
       "\n",
       "// Listen for the removal of the full notebook cells\n",
       "var notebookContainer = gd.closest('#notebook-container');\n",
       "if (notebookContainer) {{\n",
       "    x.observe(notebookContainer, {childList: true});\n",
       "}}\n",
       "\n",
       "// Listen for the clearing of the current output cell\n",
       "var outputEl = gd.closest('.output');\n",
       "if (outputEl) {{\n",
       "    x.observe(outputEl, {childList: true});\n",
       "}}\n",
       "\n",
       "                        })                };                });            </script>        </div>"
      ]
     },
     "metadata": {},
     "output_type": "display_data"
    }
   ],
   "source": [
    "px.bar(top10FastestEV,x='CarName', y='TopSpeed (km/h)',hover_data=['Accel','PowerTrain'],color='TopSpeed',text_auto='.2s',title='Top 10 Fastest EVs')\n"
   ]
  }
 ],
 "metadata": {
  "kernelspec": {
   "display_name": "Python 3",
   "language": "python",
   "name": "python3"
  },
  "language_info": {
   "codemirror_mode": {
    "name": "ipython",
    "version": 3
   },
   "file_extension": ".py",
   "mimetype": "text/x-python",
   "name": "python",
   "nbconvert_exporter": "python",
   "pygments_lexer": "ipython3",
   "version": "3.7.12"
  },
  "papermill": {
   "default_parameters": {},
   "duration": 14.72063,
   "end_time": "2023-02-09T16:50:28.076737",
   "environment_variables": {},
   "exception": null,
   "input_path": "__notebook__.ipynb",
   "output_path": "__notebook__.ipynb",
   "parameters": {},
   "start_time": "2023-02-09T16:50:13.356107",
   "version": "2.3.4"
  }
 },
 "nbformat": 4,
 "nbformat_minor": 5
}
